{
 "cells": [
  {
   "cell_type": "markdown",
   "metadata": {},
   "source": [
    "# Recap of the baseline implementation\n",
    "\n",
    "## Stress boundary condition\n",
    "\n",
    "$$\\tau = \\rho u_*^2 = \\rho \\left[ \\frac{\\kappa U}{\\ln (z/z_0)}\\right]^2$$\n",
    "\n",
    "where the velocity are evaluated from the first and second grid levels:\n",
    "- $U = \\sqrt{((u_1 +  u_2)/2)^2 + ((v_1 + v_2)/2)^2}$\n",
    "- $z = (z_1 + z_2) / 2$\n",
    "\n",
    "**Parameters:**\n",
    "- $\\kappa = 0.41$ (von-Karman constant)\n",
    "- $z_0 = 0.1$ (roughness length)"
   ]
  },
  {
   "cell_type": "markdown",
   "metadata": {},
   "source": [
    "## \"Constant\" Smagorinsky sub-grid scale (SGS) model with wall damping\n",
    "\n",
    "Total viscosity = $\\nu + \\nu_t$\n",
    "\n",
    "Eddy viscosity, $$\\nu_t = (C_s \\Delta)^2 |S_{ij}|$$\n",
    "\n",
    "where,\n",
    "- $S_{ij} = \\frac{1}{2}(\\nabla \\mathbf{u} + \\nabla \\mathbf{u}^T)$ (symmetric part of strain tensor)\n",
    "- $C_s$ is wall damped as:\n",
    "\n",
    "$$\\frac{1}{C_s^n} = \\frac{1}{C_0^n} + \\left[ \\frac{\\Delta}{\\kappa (z+z_0)} \\right]^n$$\n",
    "- $\\Delta$ is the length scale set as the grid spacing\n",
    "\n",
    "\n",
    "**Parameters:**\n",
    "- $\\nu = 1e-10\\, m^2/s$ (Kinematic viscosity)\n",
    "- $C_0 = 0.19$\n",
    "- $n = 0.5$"
   ]
  },
  {
   "cell_type": "markdown",
   "metadata": {},
   "source": [
    "# Experiments and modifications to the model\n",
    "\n",
    "1. Case: `bc-3rd`\n",
    "   Evaluate boundary condition with:\n",
    "   \n",
    "    - $U = \\sqrt{((u_3 +  u_4)/2)^2 + ((v_3 + v_4)/2)^2}$\n",
    "    - $z = (z_3 + z_4)/2$\n",
    "\n",
    "\n",
    "2. Case `npow`\n",
    "    Set $n=3.0$ as power for SGS wall damping\n",
    "    \n",
    "3. Case `sgs-delta`\n",
    "    Vary SGS length scale gradually as the maximum grid spacing within a spectral element and reduce $C_0$ to $0.15$. "
   ]
  },
  {
   "cell_type": "markdown",
   "metadata": {},
   "source": [
    "![](aug-loglaw.png)"
   ]
  },
  {
   "cell_type": "markdown",
   "metadata": {},
   "source": [
    "4. Case `sgs-delta-ft-True`: Modifications in case 3 + temporal filtering for $U$ while computing boundary condition as recommended in Yang et al. (PRF 2017)\n",
    "\n",
    "![](sept-loglaw.png)"
   ]
  },
  {
   "cell_type": "markdown",
   "metadata": {},
   "source": [
    "5. Dynamic smagorinsky SGS model (work-in-progress)\n",
    "\n",
    "   - **Status**: compiles, runs, but blows up. Implementation needs to be verified and tuned for our case."
   ]
  },
  {
   "cell_type": "markdown",
   "metadata": {},
   "source": [
    "# Summary\n",
    "\n",
    "- `bc-3rd`: Shifting boundary conditions problematic because of Ekmann turning.\n",
    "\n",
    "- `npow`: Indicates SGS model has a large impact on log-layer mismatch\n",
    "\n",
    "- `sgs-delta`: Varying grid-length scale gradually has minor impact on the overall profile, but affects friction velocity $u^* = \\sqrt{\\tau_w}$\n",
    "\n",
    "- `sgs-delta-ft-True`: Temporal filtering of wall boundary condition has no impact\n",
    "\n",
    "- `dyn-sgs-delta`: No need for damping function\n"
   ]
  }
 ],
 "metadata": {
  "kernelspec": {
   "display_name": "Python 3.8.2 64-bit ('snek': venv)",
   "language": "python",
   "name": "python38264bitsnekvenvffbfa5b53a164acb9521c83c3b4198c2"
  },
  "language_info": {
   "name": ""
  }
 },
 "nbformat": 4,
 "nbformat_minor": 4
}
