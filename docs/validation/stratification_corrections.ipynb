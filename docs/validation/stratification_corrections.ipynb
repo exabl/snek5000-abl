{
 "cells": [
  {
   "cell_type": "markdown",
   "id": "a93ecdb3-4f26-4e70-b2ef-1279b106a726",
   "metadata": {},
   "source": [
    "# Stratification corrections and Newton Raphson method to calculate Monin Obukhov length $z/L$"
   ]
  },
  {
   "cell_type": "code",
   "execution_count": 1,
   "id": "921723f1-ad44-436d-b274-bc0c40181766",
   "metadata": {},
   "outputs": [],
   "source": [
    "from sympy import symbols, init_printing\n",
    "import sympy as sp\n",
    "\n",
    "# Required only in terminal\n",
    "# init_printing()"
   ]
  },
  {
   "cell_type": "code",
   "execution_count": 2,
   "id": "20ceeca7-301d-440f-ab9b-dde0b4654806",
   "metadata": {},
   "outputs": [],
   "source": [
    "from sympy.printing.pycode import pycode"
   ]
  },
  {
   "cell_type": "code",
   "execution_count": 3,
   "id": "cb3ef98c-a5fb-4c9e-a7fc-652c9f75f49c",
   "metadata": {},
   "outputs": [],
   "source": [
    "z1, z0, z = symbols('z_1 z_0 z', real=True, positive=True)\n",
    "L, xi = symbols(r'L \\xi', real=True)"
   ]
  },
  {
   "cell_type": "code",
   "execution_count": 4,
   "id": "c761e01b-8582-4ade-9a3f-c935ef3048c3",
   "metadata": {},
   "outputs": [
    {
     "data": {
      "text/plain": [
       "True"
      ]
     },
     "execution_count": 4,
     "metadata": {},
     "output_type": "execute_result"
    }
   ],
   "source": [
    "z.is_positive"
   ]
  },
  {
   "cell_type": "code",
   "execution_count": 5,
   "id": "83f98683-745c-4557-8f73-d3fbb43e8bdf",
   "metadata": {},
   "outputs": [],
   "source": [
    "L.is_positive"
   ]
  },
  {
   "cell_type": "markdown",
   "id": "84876c4e-4b80-4d07-870f-a031421e632b",
   "metadata": {},
   "source": [
    "Let's create dummy variables depending on Monin Obukhov length $L$ (because [Sympy cannot refine piecewise functions](https://github.com/sympy/sympy/issues/9384))"
   ]
  },
  {
   "cell_type": "code",
   "execution_count": 63,
   "id": "5dc1aab0-3b88-4f6a-bd34-c77192ef8002",
   "metadata": {},
   "outputs": [],
   "source": [
    "Lp = symbols('L', positive=True)\n",
    "Ln = symbols('L', negative=True)"
   ]
  },
  {
   "cell_type": "code",
   "execution_count": 64,
   "id": "6b3515f1-6249-4885-80d8-607352c1b218",
   "metadata": {},
   "outputs": [
    {
     "data": {
      "text/plain": [
       "True"
      ]
     },
     "execution_count": 64,
     "metadata": {},
     "output_type": "execute_result"
    }
   ],
   "source": [
    "Lp.is_positive"
   ]
  },
  {
   "cell_type": "code",
   "execution_count": 65,
   "id": "478feab2-b43e-4144-82d4-19b8f33a2c43",
   "metadata": {},
   "outputs": [
    {
     "data": {
      "text/plain": [
       "False"
      ]
     },
     "execution_count": 65,
     "metadata": {},
     "output_type": "execute_result"
    }
   ],
   "source": [
    "Ln.is_positive"
   ]
  },
  {
   "cell_type": "markdown",
   "id": "6bdb7766-d840-4711-b80f-f666461db397",
   "metadata": {},
   "source": [
    "# Momentum"
   ]
  },
  {
   "cell_type": "code",
   "execution_count": 9,
   "id": "339cd719-f225-47a7-b51c-d604396c7bd8",
   "metadata": {},
   "outputs": [
    {
     "data": {
      "text/latex": [
       "$\\displaystyle \\begin{cases} 5 \\xi + 1 & \\text{for}\\: \\xi \\geq 0 \\\\\\sqrt[4]{1 - 16 \\xi} & \\text{otherwise} \\end{cases}$"
      ],
      "text/plain": [
       "Piecewise((5*\\xi + 1, \\xi >= 0), ((1 - 16*\\xi)**(1/4), True))"
      ]
     },
     "execution_count": 9,
     "metadata": {},
     "output_type": "execute_result"
    }
   ],
   "source": [
    "phi_m = sp.Piecewise((1 + 5*xi, xi >= 0), (sp.root((1-16*xi), 4), xi < 0))\n",
    "phi_m"
   ]
  },
  {
   "cell_type": "code",
   "execution_count": 10,
   "id": "5c772219-ad0a-49db-bb05-c14485ea8657",
   "metadata": {},
   "outputs": [],
   "source": [
    "psi_m_int = (1 - phi_m) / xi\n",
    "\n",
    "psi_m = sp.integrate(psi_m_int, (xi, 0, z/L))"
   ]
  },
  {
   "cell_type": "code",
   "execution_count": 11,
   "id": "3ec1c4d0-16bf-433a-b6cd-36214926426a",
   "metadata": {},
   "outputs": [
    {
     "data": {
      "text/latex": [
       "$\\displaystyle \\begin{cases} - 4 \\sqrt[4]{1 - 16 \\min\\left(0, \\frac{z}{L}\\right)} - \\log{\\left(\\sqrt[4]{1 - 16 \\min\\left(0, \\frac{z}{L}\\right)} - 1 \\right)} + \\log{\\left(\\sqrt[4]{1 - 16 \\min\\left(0, \\frac{z}{L}\\right)} + 1 \\right)} + \\log{\\left(\\min\\left(0, \\frac{z}{L}\\right) \\right)} + 2 \\operatorname{atan}{\\left(\\sqrt[4]{1 - 16 \\min\\left(0, \\frac{z}{L}\\right)} \\right)} + \\log{\\left(2 \\right)} + 4 + \\frac{\\pi \\left(-1 - 2 i\\right)}{2} & \\text{for}\\: \\frac{z}{L} < 0 \\\\5 \\min\\left(0, \\frac{z}{L}\\right) - \\frac{5 z}{L} & \\text{otherwise} \\end{cases}$"
      ],
      "text/plain": [
       "Piecewise((-4*(1 - 16*Min(0, z/L))**(1/4) - log((1 - 16*Min(0, z/L))**(1/4) - 1) + log((1 - 16*Min(0, z/L))**(1/4) + 1) + log(Min(0, z/L)) + 2*atan((1 - 16*Min(0, z/L))**(1/4)) + log(2) + 4 + pi*(-1 - 2*I)/2, z/L < 0), (5*Min(0, z/L) - 5*z/L, True))"
      ]
     },
     "execution_count": 11,
     "metadata": {},
     "output_type": "execute_result"
    }
   ],
   "source": [
    "psi_m"
   ]
  },
  {
   "cell_type": "code",
   "execution_count": 12,
   "id": "0de148ad-54e7-4ad5-b466-55c3c24a2e9d",
   "metadata": {},
   "outputs": [
    {
     "data": {
      "text/latex": [
       "$\\displaystyle 0$"
      ],
      "text/plain": [
       "0"
      ]
     },
     "execution_count": 12,
     "metadata": {},
     "output_type": "execute_result"
    }
   ],
   "source": [
    "psi_m.refine(sp.Q.zero(z)).subs(z, 0)"
   ]
  },
  {
   "cell_type": "code",
   "execution_count": 13,
   "id": "6d575fef-dc96-4adf-be81-eb5de6891f95",
   "metadata": {},
   "outputs": [
    {
     "data": {
      "text/latex": [
       "$\\displaystyle - \\frac{5 z}{L}$"
      ],
      "text/plain": [
       "-5*z/L"
      ]
     },
     "execution_count": 13,
     "metadata": {},
     "output_type": "execute_result"
    }
   ],
   "source": [
    "psi_m_stable = psi_m.refine(sp.Q.positive(L)).subs(L, Lp)\n",
    "psi_m_stable"
   ]
  },
  {
   "cell_type": "code",
   "execution_count": 14,
   "id": "fdd62c44-b289-4391-90ce-8a0447aac7a6",
   "metadata": {},
   "outputs": [
    {
     "data": {
      "text/latex": [
       "$\\displaystyle - 4 \\sqrt[4]{1 - \\frac{16 z}{L}} + \\log{\\left(\\frac{z}{L} \\right)} - \\log{\\left(\\sqrt[4]{1 - \\frac{16 z}{L}} - 1 \\right)} + \\log{\\left(\\sqrt[4]{1 - \\frac{16 z}{L}} + 1 \\right)} + 2 \\operatorname{atan}{\\left(\\sqrt[4]{1 - \\frac{16 z}{L}} \\right)} + \\log{\\left(2 \\right)} + 4 + \\frac{\\pi \\left(-1 - 2 i\\right)}{2}$"
      ],
      "text/plain": [
       "-4*(1 - 16*z/L)**(1/4) + log(z/L) - log((1 - 16*z/L)**(1/4) - 1) + log((1 - 16*z/L)**(1/4) + 1) + 2*atan((1 - 16*z/L)**(1/4)) + log(2) + 4 + pi*(-1 - 2*I)/2"
      ]
     },
     "execution_count": 14,
     "metadata": {},
     "output_type": "execute_result"
    }
   ],
   "source": [
    "psi_m_unstable = psi_m.refine(sp.Q.negative(L)).subs(L, Ln)\n",
    "psi_m_unstable"
   ]
  },
  {
   "cell_type": "code",
   "execution_count": 15,
   "id": "446ff44a-7db0-4dcc-a9ca-c1d266e482ca",
   "metadata": {},
   "outputs": [
    {
     "data": {
      "text/latex": [
       "$\\displaystyle - 4 \\sqrt[4]{1 - \\frac{16 z}{L}} + \\log{\\left(- \\frac{1}{L} \\right)} + \\log{\\left(z \\right)} - \\log{\\left(\\sqrt[4]{1 - \\frac{16 z}{L}} - 1 \\right)} + \\log{\\left(\\sqrt[4]{1 - \\frac{16 z}{L}} + 1 \\right)} + 2 \\operatorname{atan}{\\left(\\sqrt[4]{1 - \\frac{16 z}{L}} \\right)} - \\frac{\\pi}{2} + \\log{\\left(2 \\right)} + 4$"
      ],
      "text/plain": [
       "-4*(1 - 16*z/L)**(1/4) + log(-1/L) + log(z) - log((1 - 16*z/L)**(1/4) - 1) + log((1 - 16*z/L)**(1/4) + 1) + 2*atan((1 - 16*z/L)**(1/4)) - pi/2 + log(2) + 4"
      ]
     },
     "execution_count": 15,
     "metadata": {},
     "output_type": "execute_result"
    }
   ],
   "source": [
    "psi_m_unstable.expand()"
   ]
  },
  {
   "cell_type": "code",
   "execution_count": 56,
   "id": "80623cc5-cc23-4f96-aa3d-cd2dda28f763",
   "metadata": {},
   "outputs": [],
   "source": [
    "alpha, a, x = symbols(r'\\alpha a x', real=True)"
   ]
  },
  {
   "cell_type": "code",
   "execution_count": 69,
   "id": "9ec3eafb-e9db-47c9-833f-4518d5b362d0",
   "metadata": {},
   "outputs": [
    {
     "data": {
      "text/latex": [
       "$\\displaystyle - 4 x + \\log{\\left(\\xi \\right)} - \\log{\\left(x - 1 \\right)} + \\log{\\left(x + 1 \\right)} + 2 \\operatorname{atan}{\\left(x \\right)} - \\frac{\\pi}{2} + \\log{\\left(2 \\right)} + 4 - i \\pi$"
      ],
      "text/plain": [
       "-4*x + log(\\xi) - log(x - 1) + log(x + 1) + 2*atan(x) - pi/2 + log(2) + 4 - I*pi"
      ]
     },
     "execution_count": 69,
     "metadata": {},
     "output_type": "execute_result"
    }
   ],
   "source": [
    "psi_m_unstable.subs({sp.root(1 -16*z/Ln, 4): x, z/Ln: xi}).simplify()"
   ]
  },
  {
   "cell_type": "code",
   "execution_count": 18,
   "id": "c256d905-4b54-4ec8-baf0-69dfea840d3d",
   "metadata": {},
   "outputs": [
    {
     "data": {
      "text/latex": [
       "$\\displaystyle \\log{\\left(\\frac{z_{1}}{z_{0}} \\right)} - \\frac{5 z_{0}}{L} + \\frac{5 z_{1}}{L}$"
      ],
      "text/plain": [
       "log(z_1/z_0) - 5*z_0/L + 5*z_1/L"
      ]
     },
     "execution_count": 18,
     "metadata": {},
     "output_type": "execute_result"
    }
   ],
   "source": [
    "def f_psi_m_stable(x):\n",
    "    return psi_m_stable.subs(z/Lp, x)\n",
    "\n",
    "\n",
    "PsiM_stable  = sp.log(z1 / z0) - f_psi_m_stable(z1 / L) + f_psi_m_stable(z0 / L)\n",
    "PsiM_stable"
   ]
  },
  {
   "cell_type": "code",
   "execution_count": 19,
   "id": "15d275ce-fb02-438e-987f-b4ff7d8d1abd",
   "metadata": {},
   "outputs": [
    {
     "name": "stdout",
     "output_type": "stream",
     "text": [
      "math.log(z_1/z_0) - 5*z_0/L + 5*z_1/L\n"
     ]
    }
   ],
   "source": [
    "print(pycode(PsiM_stable))"
   ]
  },
  {
   "cell_type": "code",
   "execution_count": 20,
   "id": "12c02b95-5e3a-45c3-9050-0e2e0bddc65a",
   "metadata": {},
   "outputs": [
    {
     "data": {
      "text/latex": [
       "$\\displaystyle - 4 \\sqrt[4]{1 - \\frac{16 z_{0}}{L}} + 4 \\sqrt[4]{1 - \\frac{16 z_{1}}{L}} + \\log{\\left(\\frac{z_{0}}{L} \\right)} - \\log{\\left(\\frac{z_{1}}{L} \\right)} + \\log{\\left(\\frac{z_{1}}{z_{0}} \\right)} - \\log{\\left(\\sqrt[4]{1 - \\frac{16 z_{0}}{L}} - 1 \\right)} + \\log{\\left(\\sqrt[4]{1 - \\frac{16 z_{0}}{L}} + 1 \\right)} + \\log{\\left(\\sqrt[4]{1 - \\frac{16 z_{1}}{L}} - 1 \\right)} - \\log{\\left(\\sqrt[4]{1 - \\frac{16 z_{1}}{L}} + 1 \\right)} + 2 \\operatorname{atan}{\\left(\\sqrt[4]{1 - \\frac{16 z_{0}}{L}} \\right)} - 2 \\operatorname{atan}{\\left(\\sqrt[4]{1 - \\frac{16 z_{1}}{L}} \\right)}$"
      ],
      "text/plain": [
       "-4*(1 - 16*z_0/L)**(1/4) + 4*(1 - 16*z_1/L)**(1/4) + log(z_0/L) - log(z_1/L) + log(z_1/z_0) - log((1 - 16*z_0/L)**(1/4) - 1) + log((1 - 16*z_0/L)**(1/4) + 1) + log((1 - 16*z_1/L)**(1/4) - 1) - log((1 - 16*z_1/L)**(1/4) + 1) + 2*atan((1 - 16*z_0/L)**(1/4)) - 2*atan((1 - 16*z_1/L)**(1/4))"
      ]
     },
     "execution_count": 20,
     "metadata": {},
     "output_type": "execute_result"
    }
   ],
   "source": [
    "def f_psi_m_unstable(x):\n",
    "    return psi_m_unstable.subs(z/Ln, x)\n",
    "\n",
    "\n",
    "PsiM_unstable = sp.log(z1 / z0) - f_psi_m_unstable(z1 / L) + f_psi_m_unstable(z0 / L)\n",
    "PsiM_unstable"
   ]
  },
  {
   "cell_type": "code",
   "execution_count": 21,
   "id": "03b03a92-a393-4156-87b8-b7e0496ed943",
   "metadata": {},
   "outputs": [
    {
     "name": "stdout",
     "output_type": "stream",
     "text": [
      "-4*(1 - 16*z_0/L)**(1/4) + 4*(1 - 16*z_1/L)**(1/4) + math.log(z_0/L) - math.log(z_1/L) + math.log(z_1/z_0) - math.log((1 - 16*z_0/L)**(1/4) - 1) + math.log((1 - 16*z_0/L)**(1/4) + 1) + math.log((1 - 16*z_1/L)**(1/4) - 1) - math.log((1 - 16*z_1/L)**(1/4) + 1) + 2*math.atan((1 - 16*z_0/L)**(1/4)) - 2*math.atan((1 - 16*z_1/L)**(1/4))\n"
     ]
    }
   ],
   "source": [
    "print(pycode(PsiM_unstable))"
   ]
  },
  {
   "cell_type": "markdown",
   "id": "b75d2f27-1c68-41eb-8313-0d5c2f592e90",
   "metadata": {},
   "source": [
    "# Heat"
   ]
  },
  {
   "cell_type": "code",
   "execution_count": 22,
   "id": "81256bb3-68fe-443c-bce6-ff54a98deefc",
   "metadata": {},
   "outputs": [
    {
     "data": {
      "text/latex": [
       "$\\displaystyle \\begin{cases} 5 \\xi + 1 & \\text{for}\\: \\xi \\geq 0 \\\\\\sqrt{1 - 16 \\xi} & \\text{otherwise} \\end{cases}$"
      ],
      "text/plain": [
       "Piecewise((5*\\xi + 1, \\xi >= 0), (sqrt(1 - 16*\\xi), True))"
      ]
     },
     "execution_count": 22,
     "metadata": {},
     "output_type": "execute_result"
    }
   ],
   "source": [
    "phi_h = sp.Piecewise((1 + 5*xi, xi >= 0), (sp.root((1-16*xi), 2), xi < 0))\n",
    "phi_h"
   ]
  },
  {
   "cell_type": "code",
   "execution_count": 23,
   "id": "66d2fa0e-f20d-49b3-8e43-19a59a41e962",
   "metadata": {},
   "outputs": [],
   "source": [
    "psi_h_int = (1 - phi_h) / xi\n",
    "\n",
    "psi_h = sp.integrate(psi_h_int, (xi, 0, z/L))"
   ]
  },
  {
   "cell_type": "code",
   "execution_count": 24,
   "id": "3ac0b588-ae8c-4f6c-8851-bcbd2c340090",
   "metadata": {},
   "outputs": [
    {
     "data": {
      "text/latex": [
       "$\\displaystyle \\begin{cases} - 2 \\sqrt{1 - 16 \\min\\left(0, \\frac{z}{L}\\right)} - \\log{\\left(\\sqrt{1 - 16 \\min\\left(0, \\frac{z}{L}\\right)} - 1 \\right)} + \\log{\\left(\\sqrt{1 - 16 \\min\\left(0, \\frac{z}{L}\\right)} + 1 \\right)} + \\log{\\left(\\min\\left(0, \\frac{z}{L}\\right) \\right)} + 2 \\log{\\left(2 \\right)} + 2 - i \\pi & \\text{for}\\: \\frac{z}{L} < 0 \\\\5 \\min\\left(0, \\frac{z}{L}\\right) - \\frac{5 z}{L} & \\text{otherwise} \\end{cases}$"
      ],
      "text/plain": [
       "Piecewise((-2*sqrt(1 - 16*Min(0, z/L)) - log(sqrt(1 - 16*Min(0, z/L)) - 1) + log(sqrt(1 - 16*Min(0, z/L)) + 1) + log(Min(0, z/L)) + 2*log(2) + 2 - I*pi, z/L < 0), (5*Min(0, z/L) - 5*z/L, True))"
      ]
     },
     "execution_count": 24,
     "metadata": {},
     "output_type": "execute_result"
    }
   ],
   "source": [
    "psi_h"
   ]
  },
  {
   "cell_type": "code",
   "execution_count": 25,
   "id": "dddbb9a0-89b4-4b5a-86c2-e42c3025dfd1",
   "metadata": {},
   "outputs": [
    {
     "data": {
      "text/latex": [
       "$\\displaystyle 0$"
      ],
      "text/plain": [
       "0"
      ]
     },
     "execution_count": 25,
     "metadata": {},
     "output_type": "execute_result"
    }
   ],
   "source": [
    "psi_h.refine(sp.Q.zero(z)).subs(z, 0)"
   ]
  },
  {
   "cell_type": "code",
   "execution_count": 26,
   "id": "96143ebb-29f3-4f23-aa2b-743b15ca4388",
   "metadata": {},
   "outputs": [
    {
     "data": {
      "text/latex": [
       "$\\displaystyle - \\frac{5 z}{L}$"
      ],
      "text/plain": [
       "-5*z/L"
      ]
     },
     "execution_count": 26,
     "metadata": {},
     "output_type": "execute_result"
    }
   ],
   "source": [
    "psi_h_stable = psi_h.refine(sp.Q.positive(L)).subs(L, Lp)\n",
    "psi_h_stable"
   ]
  },
  {
   "cell_type": "code",
   "execution_count": 27,
   "id": "1504c62d-18e7-434a-b956-56483f01112d",
   "metadata": {},
   "outputs": [
    {
     "data": {
      "text/latex": [
       "$\\displaystyle - 2 \\sqrt{1 - \\frac{16 z}{L}} + \\log{\\left(\\frac{z}{L} \\right)} - \\log{\\left(\\sqrt{1 - \\frac{16 z}{L}} - 1 \\right)} + \\log{\\left(\\sqrt{1 - \\frac{16 z}{L}} + 1 \\right)} + 2 \\log{\\left(2 \\right)} + 2 - i \\pi$"
      ],
      "text/plain": [
       "-2*sqrt(1 - 16*z/L) + log(z/L) - log(sqrt(1 - 16*z/L) - 1) + log(sqrt(1 - 16*z/L) + 1) + 2*log(2) + 2 - I*pi"
      ]
     },
     "execution_count": 27,
     "metadata": {},
     "output_type": "execute_result"
    }
   ],
   "source": [
    "psi_h_unstable = psi_h.refine(sp.Q.negative(L)).subs(L, Ln)\n",
    "psi_h_unstable"
   ]
  },
  {
   "cell_type": "code",
   "execution_count": 28,
   "id": "dfb0df96-f43b-4c84-a1a3-3be5b8a90079",
   "metadata": {},
   "outputs": [
    {
     "data": {
      "text/latex": [
       "$\\displaystyle - 2 \\sqrt{1 - \\frac{16 z}{L}} + \\log{\\left(- \\frac{1}{L} \\right)} + \\log{\\left(z \\right)} - \\log{\\left(\\sqrt{1 - \\frac{16 z}{L}} - 1 \\right)} + \\log{\\left(\\sqrt{1 - \\frac{16 z}{L}} + 1 \\right)} + 2 \\log{\\left(2 \\right)} + 2$"
      ],
      "text/plain": [
       "-2*sqrt(1 - 16*z/L) + log(-1/L) + log(z) - log(sqrt(1 - 16*z/L) - 1) + log(sqrt(1 - 16*z/L) + 1) + 2*log(2) + 2"
      ]
     },
     "execution_count": 28,
     "metadata": {},
     "output_type": "execute_result"
    }
   ],
   "source": [
    "psi_h_unstable.expand()"
   ]
  },
  {
   "cell_type": "code",
   "execution_count": 29,
   "id": "02919770-f258-46e6-9190-7e8606215e5e",
   "metadata": {},
   "outputs": [],
   "source": [
    "alpha, a = symbols(r'\\alpha a', real=True)"
   ]
  },
  {
   "cell_type": "code",
   "execution_count": 30,
   "id": "ebf5e211-00a9-4403-b300-66f5137eb8b5",
   "metadata": {},
   "outputs": [
    {
     "data": {
      "text/latex": [
       "$\\displaystyle - 2 \\sqrt{\\alpha} + \\log{\\left(a \\right)} - \\log{\\left(\\sqrt{\\alpha} - 1 \\right)} + \\log{\\left(\\sqrt{\\alpha} + 1 \\right)} + 2 \\log{\\left(2 \\right)} + 2 - i \\pi$"
      ],
      "text/plain": [
       "-2*sqrt(\\alpha) + log(a) - log(sqrt(\\alpha) - 1) + log(sqrt(\\alpha) + 1) + 2*log(2) + 2 - I*pi"
      ]
     },
     "execution_count": 30,
     "metadata": {},
     "output_type": "execute_result"
    }
   ],
   "source": [
    "psi_h_unstable.subs({1 -16*z/Ln: alpha, z/Ln: a})"
   ]
  },
  {
   "cell_type": "code",
   "execution_count": 31,
   "id": "5bed1f38-4096-435d-ab70-1e0716547161",
   "metadata": {},
   "outputs": [
    {
     "data": {
      "text/latex": [
       "$\\displaystyle \\log{\\left(\\frac{z_{1}}{z_{0}} \\right)} - \\frac{5 z_{0}}{L} + \\frac{5 z_{1}}{L}$"
      ],
      "text/plain": [
       "log(z_1/z_0) - 5*z_0/L + 5*z_1/L"
      ]
     },
     "execution_count": 31,
     "metadata": {},
     "output_type": "execute_result"
    }
   ],
   "source": [
    "def f_psi_h_stable(x):\n",
    "    return psi_h_stable.subs(z/Lp, x)\n",
    "\n",
    "\n",
    "PsiH_stable  = sp.log(z1 / z0) - f_psi_h_stable(z1 / L) + f_psi_h_stable(z0 / L)\n",
    "PsiH_stable"
   ]
  },
  {
   "cell_type": "code",
   "execution_count": 32,
   "id": "1e5af346-9e2c-4903-bcab-b0aff6e2d317",
   "metadata": {},
   "outputs": [
    {
     "data": {
      "text/latex": [
       "$\\displaystyle - 2 \\sqrt{1 - \\frac{16 z_{0}}{L}} + 2 \\sqrt{1 - \\frac{16 z_{1}}{L}} + \\log{\\left(\\frac{z_{0}}{L} \\right)} - \\log{\\left(\\frac{z_{1}}{L} \\right)} + \\log{\\left(\\frac{z_{1}}{z_{0}} \\right)} - \\log{\\left(\\sqrt{1 - \\frac{16 z_{0}}{L}} - 1 \\right)} + \\log{\\left(\\sqrt{1 - \\frac{16 z_{0}}{L}} + 1 \\right)} + \\log{\\left(\\sqrt{1 - \\frac{16 z_{1}}{L}} - 1 \\right)} - \\log{\\left(\\sqrt{1 - \\frac{16 z_{1}}{L}} + 1 \\right)}$"
      ],
      "text/plain": [
       "-2*sqrt(1 - 16*z_0/L) + 2*sqrt(1 - 16*z_1/L) + log(z_0/L) - log(z_1/L) + log(z_1/z_0) - log(sqrt(1 - 16*z_0/L) - 1) + log(sqrt(1 - 16*z_0/L) + 1) + log(sqrt(1 - 16*z_1/L) - 1) - log(sqrt(1 - 16*z_1/L) + 1)"
      ]
     },
     "execution_count": 32,
     "metadata": {},
     "output_type": "execute_result"
    }
   ],
   "source": [
    "def f_psi_h_unstable(x):\n",
    "    return psi_h_unstable.subs(z/Ln, x)\n",
    "\n",
    "\n",
    "PsiH_unstable = sp.log(z1 / z0) - f_psi_h_unstable(z1 / L) + f_psi_h_unstable(z0 / L)\n",
    "PsiH_unstable"
   ]
  },
  {
   "cell_type": "markdown",
   "id": "6d96bd68-aa02-4995-a2bf-b7adc892a836",
   "metadata": {},
   "source": [
    "# Richardson number"
   ]
  },
  {
   "cell_type": "code",
   "execution_count": 33,
   "id": "826fadb5-edab-4126-98fb-d1c4b7c8b0a7",
   "metadata": {},
   "outputs": [],
   "source": [
    "Ri_b = symbols('Ri_b', real=True)"
   ]
  },
  {
   "cell_type": "code",
   "execution_count": 34,
   "id": "afc375dc-fdbb-4613-ae74-3b0bc397b095",
   "metadata": {},
   "outputs": [
    {
     "data": {
      "text/latex": [
       "$\\displaystyle \\frac{z_{1}}{L \\left(\\log{\\left(\\frac{z_{1}}{z_{0}} \\right)} - \\frac{5 z_{0}}{L} + \\frac{5 z_{1}}{L}\\right)}$"
      ],
      "text/plain": [
       "z_1/(L*(log(z_1/z_0) - 5*z_0/L + 5*z_1/L))"
      ]
     },
     "execution_count": 34,
     "metadata": {},
     "output_type": "execute_result"
    }
   ],
   "source": [
    "Ri_stable = (z1 / L) * (PsiH_stable / PsiM_stable**2) \n",
    "\n",
    "Ri_stable"
   ]
  },
  {
   "cell_type": "code",
   "execution_count": 46,
   "id": "49cb37c4-b250-423d-8b8b-7c1b99e5b8f4",
   "metadata": {},
   "outputs": [
    {
     "data": {
      "text/latex": [
       "$\\displaystyle - \\frac{\\log{\\left(\\left(\\frac{z_{1}}{z_{0}}\\right)^{z_{1}} \\right)}}{\\left(- 5 z_{0} + 5 z_{1} + \\log{\\left(\\left(\\frac{z_{1}}{z_{0}}\\right)^{L} \\right)}\\right)^{2}}$"
      ],
      "text/plain": [
       "-log((z_1/z_0)**z_1)/(-5*z_0 + 5*z_1 + log((z_1/z_0)**L))**2"
      ]
     },
     "execution_count": 46,
     "metadata": {},
     "output_type": "execute_result"
    }
   ],
   "source": [
    "Ri_stable.diff(L).simplify()"
   ]
  },
  {
   "cell_type": "code",
   "execution_count": 47,
   "id": "f09c5346-cf32-4d4a-9782-b8c5d149a451",
   "metadata": {},
   "outputs": [
    {
     "data": {
      "text/latex": [
       "$\\displaystyle \\frac{z_{1} \\left(- 2 \\sqrt{\\frac{L - 16 z_{0}}{L}} + 2 \\sqrt{\\frac{L - 16 z_{1}}{L}} - \\log{\\left(\\sqrt{\\frac{L - 16 z_{0}}{L}} - 1 \\right)} + \\log{\\left(\\sqrt{\\frac{L - 16 z_{0}}{L}} + 1 \\right)} + \\log{\\left(\\sqrt{\\frac{L - 16 z_{1}}{L}} - 1 \\right)} - \\log{\\left(\\sqrt{\\frac{L - 16 z_{1}}{L}} + 1 \\right)}\\right)}{L \\left(- 4 \\sqrt[4]{\\frac{L - 16 z_{0}}{L}} + 4 \\sqrt[4]{\\frac{L - 16 z_{1}}{L}} - \\log{\\left(\\sqrt[4]{\\frac{L - 16 z_{0}}{L}} - 1 \\right)} + \\log{\\left(\\sqrt[4]{\\frac{L - 16 z_{0}}{L}} + 1 \\right)} + \\log{\\left(\\sqrt[4]{\\frac{L - 16 z_{1}}{L}} - 1 \\right)} - \\log{\\left(\\sqrt[4]{\\frac{L - 16 z_{1}}{L}} + 1 \\right)} + 2 \\operatorname{atan}{\\left(\\sqrt[4]{\\frac{L - 16 z_{0}}{L}} \\right)} - 2 \\operatorname{atan}{\\left(\\sqrt[4]{\\frac{L - 16 z_{1}}{L}} \\right)}\\right)^{2}}$"
      ],
      "text/plain": [
       "z_1*(-2*sqrt((L - 16*z_0)/L) + 2*sqrt((L - 16*z_1)/L) - log(sqrt((L - 16*z_0)/L) - 1) + log(sqrt((L - 16*z_0)/L) + 1) + log(sqrt((L - 16*z_1)/L) - 1) - log(sqrt((L - 16*z_1)/L) + 1))/(L*(-4*((L - 16*z_0)/L)**(1/4) + 4*((L - 16*z_1)/L)**(1/4) - log(((L - 16*z_0)/L)**(1/4) - 1) + log(((L - 16*z_0)/L)**(1/4) + 1) + log(((L - 16*z_1)/L)**(1/4) - 1) - log(((L - 16*z_1)/L)**(1/4) + 1) + 2*atan(((L - 16*z_0)/L)**(1/4)) - 2*atan(((L - 16*z_1)/L)**(1/4)))**2)"
      ]
     },
     "execution_count": 47,
     "metadata": {},
     "output_type": "execute_result"
    }
   ],
   "source": [
    "Ri_unstable = (z1 / L) * (PsiH_unstable / PsiM_unstable**2)\n",
    "\n",
    "Ri_unstable.simplify()"
   ]
  },
  {
   "cell_type": "code",
   "execution_count": 50,
   "id": "3f35546b-03e8-4d65-bb50-43c114a5e0db",
   "metadata": {},
   "outputs": [
    {
     "data": {
      "text/latex": [
       "$\\displaystyle \\frac{z_{1} \\left(- \\frac{16 z_{0}}{L^{2} \\sqrt{1 - \\frac{16 z_{0}}{L}}} + \\frac{8 z_{0}}{L^{2} \\sqrt{1 - \\frac{16 z_{0}}{L}} \\left(\\sqrt{1 - \\frac{16 z_{0}}{L}} + 1\\right)} - \\frac{8 z_{0}}{L^{2} \\sqrt{1 - \\frac{16 z_{0}}{L}} \\left(\\sqrt{1 - \\frac{16 z_{0}}{L}} - 1\\right)} + \\frac{16 z_{1}}{L^{2} \\sqrt{1 - \\frac{16 z_{1}}{L}}} - \\frac{8 z_{1}}{L^{2} \\sqrt{1 - \\frac{16 z_{1}}{L}} \\left(\\sqrt{1 - \\frac{16 z_{1}}{L}} + 1\\right)} + \\frac{8 z_{1}}{L^{2} \\sqrt{1 - \\frac{16 z_{1}}{L}} \\left(\\sqrt{1 - \\frac{16 z_{1}}{L}} - 1\\right)}\\right)}{L \\left(- 4 \\sqrt[4]{1 - \\frac{16 z_{0}}{L}} + 4 \\sqrt[4]{1 - \\frac{16 z_{1}}{L}} + \\log{\\left(\\frac{z_{0}}{L} \\right)} - \\log{\\left(\\frac{z_{1}}{L} \\right)} + \\log{\\left(\\frac{z_{1}}{z_{0}} \\right)} - \\log{\\left(\\sqrt[4]{1 - \\frac{16 z_{0}}{L}} - 1 \\right)} + \\log{\\left(\\sqrt[4]{1 - \\frac{16 z_{0}}{L}} + 1 \\right)} + \\log{\\left(\\sqrt[4]{1 - \\frac{16 z_{1}}{L}} - 1 \\right)} - \\log{\\left(\\sqrt[4]{1 - \\frac{16 z_{1}}{L}} + 1 \\right)} + 2 \\operatorname{atan}{\\left(\\sqrt[4]{1 - \\frac{16 z_{0}}{L}} \\right)} - 2 \\operatorname{atan}{\\left(\\sqrt[4]{1 - \\frac{16 z_{1}}{L}} \\right)}\\right)^{2}} + \\frac{z_{1} \\left(\\frac{32 z_{0}}{L^{2} \\left(1 - \\frac{16 z_{0}}{L}\\right)^{\\frac{3}{4}}} - \\frac{16 z_{0}}{L^{2} \\left(1 - \\frac{16 z_{0}}{L}\\right)^{\\frac{3}{4}} \\left(\\sqrt{1 - \\frac{16 z_{0}}{L}} + 1\\right)} - \\frac{8 z_{0}}{L^{2} \\left(1 - \\frac{16 z_{0}}{L}\\right)^{\\frac{3}{4}} \\left(\\sqrt[4]{1 - \\frac{16 z_{0}}{L}} + 1\\right)} + \\frac{8 z_{0}}{L^{2} \\left(1 - \\frac{16 z_{0}}{L}\\right)^{\\frac{3}{4}} \\left(\\sqrt[4]{1 - \\frac{16 z_{0}}{L}} - 1\\right)} - \\frac{32 z_{1}}{L^{2} \\left(1 - \\frac{16 z_{1}}{L}\\right)^{\\frac{3}{4}}} + \\frac{16 z_{1}}{L^{2} \\left(1 - \\frac{16 z_{1}}{L}\\right)^{\\frac{3}{4}} \\left(\\sqrt{1 - \\frac{16 z_{1}}{L}} + 1\\right)} + \\frac{8 z_{1}}{L^{2} \\left(1 - \\frac{16 z_{1}}{L}\\right)^{\\frac{3}{4}} \\left(\\sqrt[4]{1 - \\frac{16 z_{1}}{L}} + 1\\right)} - \\frac{8 z_{1}}{L^{2} \\left(1 - \\frac{16 z_{1}}{L}\\right)^{\\frac{3}{4}} \\left(\\sqrt[4]{1 - \\frac{16 z_{1}}{L}} - 1\\right)}\\right) \\left(- 2 \\sqrt{1 - \\frac{16 z_{0}}{L}} + 2 \\sqrt{1 - \\frac{16 z_{1}}{L}} + \\log{\\left(\\frac{z_{0}}{L} \\right)} - \\log{\\left(\\frac{z_{1}}{L} \\right)} + \\log{\\left(\\frac{z_{1}}{z_{0}} \\right)} - \\log{\\left(\\sqrt{1 - \\frac{16 z_{0}}{L}} - 1 \\right)} + \\log{\\left(\\sqrt{1 - \\frac{16 z_{0}}{L}} + 1 \\right)} + \\log{\\left(\\sqrt{1 - \\frac{16 z_{1}}{L}} - 1 \\right)} - \\log{\\left(\\sqrt{1 - \\frac{16 z_{1}}{L}} + 1 \\right)}\\right)}{L \\left(- 4 \\sqrt[4]{1 - \\frac{16 z_{0}}{L}} + 4 \\sqrt[4]{1 - \\frac{16 z_{1}}{L}} + \\log{\\left(\\frac{z_{0}}{L} \\right)} - \\log{\\left(\\frac{z_{1}}{L} \\right)} + \\log{\\left(\\frac{z_{1}}{z_{0}} \\right)} - \\log{\\left(\\sqrt[4]{1 - \\frac{16 z_{0}}{L}} - 1 \\right)} + \\log{\\left(\\sqrt[4]{1 - \\frac{16 z_{0}}{L}} + 1 \\right)} + \\log{\\left(\\sqrt[4]{1 - \\frac{16 z_{1}}{L}} - 1 \\right)} - \\log{\\left(\\sqrt[4]{1 - \\frac{16 z_{1}}{L}} + 1 \\right)} + 2 \\operatorname{atan}{\\left(\\sqrt[4]{1 - \\frac{16 z_{0}}{L}} \\right)} - 2 \\operatorname{atan}{\\left(\\sqrt[4]{1 - \\frac{16 z_{1}}{L}} \\right)}\\right)^{3}} - \\frac{z_{1} \\left(- 2 \\sqrt{1 - \\frac{16 z_{0}}{L}} + 2 \\sqrt{1 - \\frac{16 z_{1}}{L}} + \\log{\\left(\\frac{z_{0}}{L} \\right)} - \\log{\\left(\\frac{z_{1}}{L} \\right)} + \\log{\\left(\\frac{z_{1}}{z_{0}} \\right)} - \\log{\\left(\\sqrt{1 - \\frac{16 z_{0}}{L}} - 1 \\right)} + \\log{\\left(\\sqrt{1 - \\frac{16 z_{0}}{L}} + 1 \\right)} + \\log{\\left(\\sqrt{1 - \\frac{16 z_{1}}{L}} - 1 \\right)} - \\log{\\left(\\sqrt{1 - \\frac{16 z_{1}}{L}} + 1 \\right)}\\right)}{L^{2} \\left(- 4 \\sqrt[4]{1 - \\frac{16 z_{0}}{L}} + 4 \\sqrt[4]{1 - \\frac{16 z_{1}}{L}} + \\log{\\left(\\frac{z_{0}}{L} \\right)} - \\log{\\left(\\frac{z_{1}}{L} \\right)} + \\log{\\left(\\frac{z_{1}}{z_{0}} \\right)} - \\log{\\left(\\sqrt[4]{1 - \\frac{16 z_{0}}{L}} - 1 \\right)} + \\log{\\left(\\sqrt[4]{1 - \\frac{16 z_{0}}{L}} + 1 \\right)} + \\log{\\left(\\sqrt[4]{1 - \\frac{16 z_{1}}{L}} - 1 \\right)} - \\log{\\left(\\sqrt[4]{1 - \\frac{16 z_{1}}{L}} + 1 \\right)} + 2 \\operatorname{atan}{\\left(\\sqrt[4]{1 - \\frac{16 z_{0}}{L}} \\right)} - 2 \\operatorname{atan}{\\left(\\sqrt[4]{1 - \\frac{16 z_{1}}{L}} \\right)}\\right)^{2}}$"
      ],
      "text/plain": [
       "z_1*(-16*z_0/(L**2*sqrt(1 - 16*z_0/L)) + 8*z_0/(L**2*sqrt(1 - 16*z_0/L)*(sqrt(1 - 16*z_0/L) + 1)) - 8*z_0/(L**2*sqrt(1 - 16*z_0/L)*(sqrt(1 - 16*z_0/L) - 1)) + 16*z_1/(L**2*sqrt(1 - 16*z_1/L)) - 8*z_1/(L**2*sqrt(1 - 16*z_1/L)*(sqrt(1 - 16*z_1/L) + 1)) + 8*z_1/(L**2*sqrt(1 - 16*z_1/L)*(sqrt(1 - 16*z_1/L) - 1)))/(L*(-4*(1 - 16*z_0/L)**(1/4) + 4*(1 - 16*z_1/L)**(1/4) + log(z_0/L) - log(z_1/L) + log(z_1/z_0) - log((1 - 16*z_0/L)**(1/4) - 1) + log((1 - 16*z_0/L)**(1/4) + 1) + log((1 - 16*z_1/L)**(1/4) - 1) - log((1 - 16*z_1/L)**(1/4) + 1) + 2*atan((1 - 16*z_0/L)**(1/4)) - 2*atan((1 - 16*z_1/L)**(1/4)))**2) + z_1*(32*z_0/(L**2*(1 - 16*z_0/L)**(3/4)) - 16*z_0/(L**2*(1 - 16*z_0/L)**(3/4)*(sqrt(1 - 16*z_0/L) + 1)) - 8*z_0/(L**2*(1 - 16*z_0/L)**(3/4)*((1 - 16*z_0/L)**(1/4) + 1)) + 8*z_0/(L**2*(1 - 16*z_0/L)**(3/4)*((1 - 16*z_0/L)**(1/4) - 1)) - 32*z_1/(L**2*(1 - 16*z_1/L)**(3/4)) + 16*z_1/(L**2*(1 - 16*z_1/L)**(3/4)*(sqrt(1 - 16*z_1/L) + 1)) + 8*z_1/(L**2*(1 - 16*z_1/L)**(3/4)*((1 - 16*z_1/L)**(1/4) + 1)) - 8*z_1/(L**2*(1 - 16*z_1/L)**(3/4)*((1 - 16*z_1/L)**(1/4) - 1)))*(-2*sqrt(1 - 16*z_0/L) + 2*sqrt(1 - 16*z_1/L) + log(z_0/L) - log(z_1/L) + log(z_1/z_0) - log(sqrt(1 - 16*z_0/L) - 1) + log(sqrt(1 - 16*z_0/L) + 1) + log(sqrt(1 - 16*z_1/L) - 1) - log(sqrt(1 - 16*z_1/L) + 1))/(L*(-4*(1 - 16*z_0/L)**(1/4) + 4*(1 - 16*z_1/L)**(1/4) + log(z_0/L) - log(z_1/L) + log(z_1/z_0) - log((1 - 16*z_0/L)**(1/4) - 1) + log((1 - 16*z_0/L)**(1/4) + 1) + log((1 - 16*z_1/L)**(1/4) - 1) - log((1 - 16*z_1/L)**(1/4) + 1) + 2*atan((1 - 16*z_0/L)**(1/4)) - 2*atan((1 - 16*z_1/L)**(1/4)))**3) - z_1*(-2*sqrt(1 - 16*z_0/L) + 2*sqrt(1 - 16*z_1/L) + log(z_0/L) - log(z_1/L) + log(z_1/z_0) - log(sqrt(1 - 16*z_0/L) - 1) + log(sqrt(1 - 16*z_0/L) + 1) + log(sqrt(1 - 16*z_1/L) - 1) - log(sqrt(1 - 16*z_1/L) + 1))/(L**2*(-4*(1 - 16*z_0/L)**(1/4) + 4*(1 - 16*z_1/L)**(1/4) + log(z_0/L) - log(z_1/L) + log(z_1/z_0) - log((1 - 16*z_0/L)**(1/4) - 1) + log((1 - 16*z_0/L)**(1/4) + 1) + log((1 - 16*z_1/L)**(1/4) - 1) - log((1 - 16*z_1/L)**(1/4) + 1) + 2*atan((1 - 16*z_0/L)**(1/4)) - 2*atan((1 - 16*z_1/L)**(1/4)))**2)"
      ]
     },
     "execution_count": 50,
     "metadata": {},
     "output_type": "execute_result"
    }
   ],
   "source": [
    "Ri_unstable.diff(L)"
   ]
  },
  {
   "cell_type": "markdown",
   "id": "c9531694-fd69-4bb2-889c-dba4e6dbcd91",
   "metadata": {},
   "source": [
    "# Newton Raphson"
   ]
  },
  {
   "cell_type": "code",
   "execution_count": 38,
   "id": "82bd2b5a-77e5-430a-a0f1-db0cd3a0f90c",
   "metadata": {},
   "outputs": [],
   "source": [
    "from sympy.codegen.algorithms import newtons_method\n",
    "from sympy.codegen.pyutils import render_as_module\n",
    "# For Fortran\n",
    "from sympy.codegen.futils import render_as_module as render_as_fortran_mod"
   ]
  },
  {
   "cell_type": "code",
   "execution_count": 39,
   "id": "ec689ed5-f69d-41a4-950f-f0ad8bce8807",
   "metadata": {},
   "outputs": [],
   "source": [
    "dL, atol = symbols('dL atol')"
   ]
  },
  {
   "cell_type": "code",
   "execution_count": 40,
   "id": "9b0a1338-7cf7-4285-8ab9-d85c475fde37",
   "metadata": {},
   "outputs": [],
   "source": [
    "f = Ri_b - Ri_stable\n",
    "\n",
    "expr = L - f / f.diff(L)\n",
    "algo = newtons_method(expr, L, atol, dL)"
   ]
  },
  {
   "cell_type": "code",
   "execution_count": 41,
   "id": "6683c5c8-d9c1-4ce7-b81c-d0856d3baa27",
   "metadata": {},
   "outputs": [
    {
     "name": "stdout",
     "output_type": "stream",
     "text": [
      "import math\n",
      "\n",
      "dL = float('inf')\n",
      "while (abs(dL) > atol):\n",
      "    dL = -(-L + (Ri_b - z_1/(L*(math.log(z_1/z_0) - 5*z_0/L + 5*z_1/L)))/(-z_1*(-5*z_0/L**2 + 5*z_1/L**2)/(L*(math.log(z_1/z_0) - 5*z_0/L + 5*z_1/L)**2) + z_1/(L**2*(math.log(z_1/z_0) - 5*z_0/L + 5*z_1/L))))*(-z_1*(-5*z_0/L**2 + 5*z_1/L**2)/(L*(math.log(z_1/z_0) - 5*z_0/L + 5*z_1/L)**2) + z_1/(L**2*(math.log(z_1/z_0) - 5*z_0/L + 5*z_1/L)))**2/((Ri_b - z_1/(L*(math.log(z_1/z_0) - 5*z_0/L + 5*z_1/L)))*(z_1*(10*z_0/L**3 - 10*z_1/L**3)/(L*(math.log(z_1/z_0) - 5*z_0/L + 5*z_1/L)**2) + z_1*(-10*z_0/L**2 + 10*z_1/L**2)*(-5*z_0/L**2 + 5*z_1/L**2)/(L*(math.log(z_1/z_0) - 5*z_0/L + 5*z_1/L)**3) - 2*z_1*(-5*z_0/L**2 + 5*z_1/L**2)/(L**2*(math.log(z_1/z_0) - 5*z_0/L + 5*z_1/L)**2) + 2*z_1/(L**3*(math.log(z_1/z_0) - 5*z_0/L + 5*z_1/L))))\n",
      "    L += dL\n"
     ]
    }
   ],
   "source": [
    "print(render_as_module(algo))"
   ]
  },
  {
   "cell_type": "code",
   "execution_count": 42,
   "id": "a037abff-5d47-426a-aa52-b53fa745263e",
   "metadata": {},
   "outputs": [
    {
     "name": "stdout",
     "output_type": "stream",
     "text": [
      "module find_ob_len_stable\n",
      "   \n",
      "   implicit none\n",
      "   private\n",
      "   public \n",
      "\n",
      "\n",
      "contains\n",
      "\n",
      "real*8 :: dL = (huge(0d0) + 1)\n",
      "do while (abs(dL) > atol)\n",
      "   dL = -(-L + (Ri_b - z_1/(L*(log(z_1/z_0) - 5*z_0/L + 5*z_1/L)))/(-z_1 &\n",
      "      *(-5*z_0/L**2 + 5*z_1/L**2)/(L*(log(z_1/z_0) - 5*z_0/L + 5*z_1/L) &\n",
      "      **2) + z_1/(L**2*(log(z_1/z_0) - 5*z_0/L + 5*z_1/L))))*(-z_1*(-5* &\n",
      "      z_0/L**2 + 5*z_1/L**2)/(L*(log(z_1/z_0) - 5*z_0/L + 5*z_1/L)**2) &\n",
      "      + z_1/(L**2*(log(z_1/z_0) - 5*z_0/L + 5*z_1/L)))**2/((Ri_b - z_1/ &\n",
      "      (L*(log(z_1/z_0) - 5*z_0/L + 5*z_1/L)))*(z_1*(10*z_0/L**3 - 10* &\n",
      "      z_1/L**3)/(L*(log(z_1/z_0) - 5*z_0/L + 5*z_1/L)**2) + z_1*(-10* &\n",
      "      z_0/L**2 + 10*z_1/L**2)*(-5*z_0/L**2 + 5*z_1/L**2)/(L*(log(z_1/ &\n",
      "      z_0) - 5*z_0/L + 5*z_1/L)**3) - 2*z_1*(-5*z_0/L**2 + 5*z_1/L**2)/ &\n",
      "      (L**2*(log(z_1/z_0) - 5*z_0/L + 5*z_1/L)**2) + 2*z_1/(L**3*(log( &\n",
      "      z_1/z_0) - 5*z_0/L + 5*z_1/L))))\n",
      "   L = L + dL\n",
      "end do\n",
      "end module\n"
     ]
    }
   ],
   "source": [
    "print(render_as_fortran_mod(algo, 'find_ob_len_stable'))"
   ]
  },
  {
   "cell_type": "code",
   "execution_count": 43,
   "id": "b82617de-9974-4884-804d-cc7b20992d62",
   "metadata": {},
   "outputs": [],
   "source": [
    "f = Ri_b - Ri_unstable\n",
    "\n",
    "expr = L - f / f.diff(L)\n",
    "algo = newtons_method(expr, L, atol, dL)"
   ]
  },
  {
   "cell_type": "markdown",
   "id": "d5b5124e-8ecc-44c2-9cda-4bc12f368dba",
   "metadata": {},
   "source": [
    "#### Note: huge code generated"
   ]
  },
  {
   "cell_type": "markdown",
   "id": "e5a6c66b-8392-4b37-bc69-3501741eb65c",
   "metadata": {},
   "source": [
    "print(render_as_module(algo))"
   ]
  },
  {
   "cell_type": "markdown",
   "id": "e9094708-f308-4264-9ac3-a368f59df5ec",
   "metadata": {},
   "source": [
    "print(render_as_fortran_mod(algo, 'find_ob_len_stable'))"
   ]
  },
  {
   "cell_type": "code",
   "execution_count": null,
   "id": "67faf230-d092-4ba2-a86d-3cd186bd816c",
   "metadata": {},
   "outputs": [],
   "source": []
  }
 ],
 "metadata": {
  "kernelspec": {
   "display_name": "py-snek",
   "language": "python",
   "name": "py-snek"
  },
  "language_info": {
   "codemirror_mode": {
    "name": "ipython",
    "version": 3
   },
   "file_extension": ".py",
   "mimetype": "text/x-python",
   "name": "python",
   "nbconvert_exporter": "python",
   "pygments_lexer": "ipython3",
   "version": "3.8.9"
  }
 },
 "nbformat": 4,
 "nbformat_minor": 5
}
