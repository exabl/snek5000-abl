{
 "cells": [
  {
   "cell_type": "markdown",
   "id": "a93ecdb3-4f26-4e70-b2ef-1279b106a726",
   "metadata": {},
   "source": [
    "# Stratification corrections and Newton Raphson method to calculate Monin Obukhov length $z/L$"
   ]
  },
  {
   "cell_type": "code",
   "execution_count": 1,
   "id": "921723f1-ad44-436d-b274-bc0c40181766",
   "metadata": {},
   "outputs": [],
   "source": [
    "from sympy import symbols, init_printing\n",
    "import sympy as sp\n",
    "\n",
    "# Required only in terminal\n",
    "# init_printing()"
   ]
  },
  {
   "cell_type": "code",
   "execution_count": 2,
   "id": "418784fe-fb69-47ce-bbce-1bb63f09c75a",
   "metadata": {},
   "outputs": [],
   "source": [
    "from sympy.printing.pycode import pycode\n",
    "from IPython.display import Code, display\n",
    "\n",
    "\n",
    "def show_python(expr):\n",
    "    code = pycode(expr).replace(\"math\", \"np\").replace(r\"\\xi_\", \"xi\")\n",
    "    return display(Code(code, language=\"python\"))"
   ]
  },
  {
   "cell_type": "code",
   "execution_count": 3,
   "id": "cb3ef98c-a5fb-4c9e-a7fc-652c9f75f49c",
   "metadata": {},
   "outputs": [],
   "source": [
    "z1, z0, z = symbols(\"z_1 z_0 z\", real=True, positive=True)\n",
    "L, xi = symbols(r\"L \\xi\", real=True)"
   ]
  },
  {
   "cell_type": "code",
   "execution_count": 4,
   "id": "c761e01b-8582-4ade-9a3f-c935ef3048c3",
   "metadata": {},
   "outputs": [
    {
     "data": {
      "text/plain": [
       "True"
      ]
     },
     "execution_count": 4,
     "metadata": {},
     "output_type": "execute_result"
    }
   ],
   "source": [
    "z.is_positive"
   ]
  },
  {
   "cell_type": "code",
   "execution_count": 5,
   "id": "83f98683-745c-4557-8f73-d3fbb43e8bdf",
   "metadata": {},
   "outputs": [],
   "source": [
    "L.is_positive"
   ]
  },
  {
   "cell_type": "markdown",
   "id": "84876c4e-4b80-4d07-870f-a031421e632b",
   "metadata": {},
   "source": [
    "Let's create dummy variables depending on Monin Obukhov length $L$ (because [Sympy cannot refine piecewise functions](https://github.com/sympy/sympy/issues/9384))"
   ]
  },
  {
   "cell_type": "code",
   "execution_count": 6,
   "id": "5dc1aab0-3b88-4f6a-bd34-c77192ef8002",
   "metadata": {},
   "outputs": [],
   "source": [
    "Lp = symbols(\"L\", positive=True)\n",
    "Ln = symbols(\"L\", negative=True)"
   ]
  },
  {
   "cell_type": "code",
   "execution_count": 7,
   "id": "6b3515f1-6249-4885-80d8-607352c1b218",
   "metadata": {},
   "outputs": [
    {
     "data": {
      "text/plain": [
       "True"
      ]
     },
     "execution_count": 7,
     "metadata": {},
     "output_type": "execute_result"
    }
   ],
   "source": [
    "Lp.is_positive"
   ]
  },
  {
   "cell_type": "code",
   "execution_count": 8,
   "id": "478feab2-b43e-4144-82d4-19b8f33a2c43",
   "metadata": {},
   "outputs": [
    {
     "data": {
      "text/plain": [
       "False"
      ]
     },
     "execution_count": 8,
     "metadata": {},
     "output_type": "execute_result"
    }
   ],
   "source": [
    "Ln.is_positive"
   ]
  },
  {
   "cell_type": "markdown",
   "id": "ebb9bf0c-2945-4705-94fb-3ed9b092741f",
   "metadata": {},
   "source": [
    "![](https://github.com/ashwinvis/talks/raw/master/images/most_mo_func.png)"
   ]
  },
  {
   "cell_type": "markdown",
   "id": "4b022602-fdd1-4b28-bdf8-850f489cc4e4",
   "metadata": {},
   "source": [
    "## Symbols\n",
    "\n",
    "- $\\xi = z/L$\n",
    "- $L = $ Obukhov length\n",
    "- $Ri = $ Richardson number"
   ]
  },
  {
   "cell_type": "markdown",
   "id": "6bdb7766-d840-4711-b80f-f666461db397",
   "metadata": {
    "tags": []
   },
   "source": [
    "# Momentum"
   ]
  },
  {
   "cell_type": "markdown",
   "id": "1f0db767-453c-417d-bd84-cae922046028",
   "metadata": {},
   "source": [
    "## Computing $\\phi_m(\\xi)$"
   ]
  },
  {
   "cell_type": "code",
   "execution_count": 9,
   "id": "5fca21d4-afbb-449e-a30d-3a8d329b05d5",
   "metadata": {},
   "outputs": [
    {
     "data": {
      "text/latex": [
       "$\\displaystyle \\begin{cases} 5 \\xi + 1 & \\text{for}\\: \\xi \\geq 0 \\\\\\frac{1}{\\sqrt[4]{1 - 16 \\xi}} & \\text{otherwise} \\end{cases}$"
      ],
      "text/plain": [
       "Piecewise((5*\\xi + 1, \\xi >= 0), ((1 - 16*\\xi)**(-1/4), True))"
      ]
     },
     "execution_count": 9,
     "metadata": {},
     "output_type": "execute_result"
    }
   ],
   "source": [
    "phi_m = sp.Piecewise(\n",
    "    (1 + 5 * xi, xi >= 0), (1 / sp.root((1 - 16 * xi), 4), xi < 0)\n",
    ")\n",
    "phi_m"
   ]
  },
  {
   "cell_type": "code",
   "execution_count": 10,
   "id": "4108a606-d2fb-4e1b-a47b-30f0c73019b0",
   "metadata": {},
   "outputs": [
    {
     "name": "stderr",
     "output_type": "stream",
     "text": [
      "<string>:1: RuntimeWarning: invalid value encountered in double_scalars\n"
     ]
    },
    {
     "data": {
      "image/png": "[encoded data removed]",
      "text/plain": [
       "<Figure size 640x480 with 1 Axes>"
      ]
     },
     "metadata": {},
     "output_type": "display_data"
    },
    {
     "data": {
      "text/plain": [
       "<sympy.plotting.plot.Plot at 0x7f7c0ddd7ee0>"
      ]
     },
     "execution_count": 10,
     "metadata": {},
     "output_type": "execute_result"
    }
   ],
   "source": [
    "# import numpy as np\n",
    "\n",
    "# np.seterr('raise')\n",
    "# np.seterr('warn')\n",
    "sp.plot(phi_m, (xi, -3, 1.5), axis_center=(0, 0))"
   ]
  },
  {
   "cell_type": "code",
   "execution_count": 11,
   "id": "3b18aa9c-86f0-425b-a740-ce8249334040",
   "metadata": {},
   "outputs": [
    {
     "data": {
      "text/html": [
       "<style>pre { line-height: 125%; }\n",
       "td.linenos .normal { color: inherit; background-color: transparent; padding-left: 5px; padding-right: 5px; }\n",
       "span.linenos { color: inherit; background-color: transparent; padding-left: 5px; padding-right: 5px; }\n",
       "td.linenos .special { color: #000000; background-color: #ffffc0; padding-left: 5px; padding-right: 5px; }\n",
       "span.linenos.special { color: #000000; background-color: #ffffc0; padding-left: 5px; padding-right: 5px; }\n",
       ".output_html .hll { background-color: #ffffcc }\n",
       ".output_html { background: #f8f8f8; }\n",
       ".output_html .c { color: #408080; font-style: italic } /* Comment */\n",
       ".output_html .err { border: 1px solid #FF0000 } /* Error */\n",
       ".output_html .k { color: #008000; font-weight: bold } /* Keyword */\n",
       ".output_html .o { color: #666666 } /* Operator */\n",
       ".output_html .ch { color: #408080; font-style: italic } /* Comment.Hashbang */\n",
       ".output_html .cm { color: #408080; font-style: italic } /* Comment.Multiline */\n",
       ".output_html .cp { color: #BC7A00 } /* Comment.Preproc */\n",
       ".output_html .cpf { color: #408080; font-style: italic } /* Comment.PreprocFile */\n",
       ".output_html .c1 { color: #408080; font-style: italic } /* Comment.Single */\n",
       ".output_html .cs { color: #408080; font-style: italic } /* Comment.Special */\n",
       ".output_html .gd { color: #A00000 } /* Generic.Deleted */\n",
       ".output_html .ge { font-style: italic } /* Generic.Emph */\n",
       ".output_html .gr { color: #FF0000 } /* Generic.Error */\n",
       ".output_html .gh { color: #000080; font-weight: bold } /* Generic.Heading */\n",
       ".output_html .gi { color: #00A000 } /* Generic.Inserted */\n",
       ".output_html .go { color: #888888 } /* Generic.Output */\n",
       ".output_html .gp { color: #000080; font-weight: bold } /* Generic.Prompt */\n",
       ".output_html .gs { font-weight: bold } /* Generic.Strong */\n",
       ".output_html .gu { color: #800080; font-weight: bold } /* Generic.Subheading */\n",
       ".output_html .gt { color: #0044DD } /* Generic.Traceback */\n",
       ".output_html .kc { color: #008000; font-weight: bold } /* Keyword.Constant */\n",
       ".output_html .kd { color: #008000; font-weight: bold } /* Keyword.Declaration */\n",
       ".output_html .kn { color: #008000; font-weight: bold } /* Keyword.Namespace */\n",
       ".output_html .kp { color: #008000 } /* Keyword.Pseudo */\n",
       ".output_html .kr { color: #008000; font-weight: bold } /* Keyword.Reserved */\n",
       ".output_html .kt { color: #B00040 } /* Keyword.Type */\n",
       ".output_html .m { color: #666666 } /* Literal.Number */\n",
       ".output_html .s { color: #BA2121 } /* Literal.String */\n",
       ".output_html .na { color: #7D9029 } /* Name.Attribute */\n",
       ".output_html .nb { color: #008000 } /* Name.Builtin */\n",
       ".output_html .nc { color: #0000FF; font-weight: bold } /* Name.Class */\n",
       ".output_html .no { color: #880000 } /* Name.Constant */\n",
       ".output_html .nd { color: #AA22FF } /* Name.Decorator */\n",
       ".output_html .ni { color: #999999; font-weight: bold } /* Name.Entity */\n",
       ".output_html .ne { color: #D2413A; font-weight: bold } /* Name.Exception */\n",
       ".output_html .nf { color: #0000FF } /* Name.Function */\n",
       ".output_html .nl { color: #A0A000 } /* Name.Label */\n",
       ".output_html .nn { color: #0000FF; font-weight: bold } /* Name.Namespace */\n",
       ".output_html .nt { color: #008000; font-weight: bold } /* Name.Tag */\n",
       ".output_html .nv { color: #19177C } /* Name.Variable */\n",
       ".output_html .ow { color: #AA22FF; font-weight: bold } /* Operator.Word */\n",
       ".output_html .w { color: #bbbbbb } /* Text.Whitespace */\n",
       ".output_html .mb { color: #666666 } /* Literal.Number.Bin */\n",
       ".output_html .mf { color: #666666 } /* Literal.Number.Float */\n",
       ".output_html .mh { color: #666666 } /* Literal.Number.Hex */\n",
       ".output_html .mi { color: #666666 } /* Literal.Number.Integer */\n",
       ".output_html .mo { color: #666666 } /* Literal.Number.Oct */\n",
       ".output_html .sa { color: #BA2121 } /* Literal.String.Affix */\n",
       ".output_html .sb { color: #BA2121 } /* Literal.String.Backtick */\n",
       ".output_html .sc { color: #BA2121 } /* Literal.String.Char */\n",
       ".output_html .dl { color: #BA2121 } /* Literal.String.Delimiter */\n",
       ".output_html .sd { color: #BA2121; font-style: italic } /* Literal.String.Doc */\n",
       ".output_html .s2 { color: #BA2121 } /* Literal.String.Double */\n",
       ".output_html .se { color: #BB6622; font-weight: bold } /* Literal.String.Escape */\n",
       ".output_html .sh { color: #BA2121 } /* Literal.String.Heredoc */\n",
       ".output_html .si { color: #BB6688; font-weight: bold } /* Literal.String.Interpol */\n",
       ".output_html .sx { color: #008000 } /* Literal.String.Other */\n",
       ".output_html .sr { color: #BB6688 } /* Literal.String.Regex */\n",
       ".output_html .s1 { color: #BA2121 } /* Literal.String.Single */\n",
       ".output_html .ss { color: #19177C } /* Literal.String.Symbol */\n",
       ".output_html .bp { color: #008000 } /* Name.Builtin.Pseudo */\n",
       ".output_html .fm { color: #0000FF } /* Name.Function.Magic */\n",
       ".output_html .vc { color: #19177C } /* Name.Variable.Class */\n",
       ".output_html .vg { color: #19177C } /* Name.Variable.Global */\n",
       ".output_html .vi { color: #19177C } /* Name.Variable.Instance */\n",
       ".output_html .vm { color: #19177C } /* Name.Variable.Magic */\n",
       ".output_html .il { color: #666666 } /* Literal.Number.Integer.Long */</style><div class=\"highlight\"><pre><span></span><span class=\"p\">((</span><span class=\"mi\">5</span><span class=\"o\">*</span>\\<span class=\"n\">xi</span> <span class=\"o\">+</span> <span class=\"mi\">1</span><span class=\"p\">)</span> <span class=\"k\">if</span> <span class=\"p\">(</span>\\<span class=\"n\">xi</span> <span class=\"o\">&gt;=</span> <span class=\"mi\">0</span><span class=\"p\">)</span> <span class=\"k\">else</span> <span class=\"p\">((</span><span class=\"mi\">1</span> <span class=\"o\">-</span> <span class=\"mi\">16</span><span class=\"o\">*</span>\\<span class=\"n\">xi</span><span class=\"p\">)</span><span class=\"o\">**</span><span class=\"p\">(</span><span class=\"o\">-</span><span class=\"mi\">1</span><span class=\"o\">/</span><span class=\"mi\">4</span><span class=\"p\">)))</span>\n",
       "</pre></div>\n"
      ],
      "text/latex": [
       "\\begin{Verbatim}[commandchars=\\\\\\{\\}]\n",
       "\\PY{p}{(}\\PY{p}{(}\\PY{l+m+mi}{5}\\PY{o}{*}\\PYZbs{}\\PY{n}{xi} \\PY{o}{+} \\PY{l+m+mi}{1}\\PY{p}{)} \\PY{k}{if} \\PY{p}{(}\\PYZbs{}\\PY{n}{xi} \\PY{o}{\\PYZgt{}}\\PY{o}{=} \\PY{l+m+mi}{0}\\PY{p}{)} \\PY{k}{else} \\PY{p}{(}\\PY{p}{(}\\PY{l+m+mi}{1} \\PY{o}{\\PYZhy{}} \\PY{l+m+mi}{16}\\PY{o}{*}\\PYZbs{}\\PY{n}{xi}\\PY{p}{)}\\PY{o}{*}\\PY{o}{*}\\PY{p}{(}\\PY{o}{\\PYZhy{}}\\PY{l+m+mi}{1}\\PY{o}{/}\\PY{l+m+mi}{4}\\PY{p}{)}\\PY{p}{)}\\PY{p}{)}\n",
       "\\end{Verbatim}\n"
      ],
      "text/plain": [
       "((5*\\xi + 1) if (\\xi >= 0) else ((1 - 16*\\xi)**(-1/4)))"
      ]
     },
     "metadata": {},
     "output_type": "display_data"
    }
   ],
   "source": [
    "show_python(phi_m)"
   ]
  },
  {
   "cell_type": "code",
   "execution_count": 15,
   "id": "8e35bfc0-c6eb-4d6b-9a8e-58e398995aad",
   "metadata": {},
   "outputs": [
    {
     "data": {
      "text/plain": [
       "[<matplotlib.lines.Line2D at 0x7f7c0da67460>]"
      ]
     },
     "execution_count": 15,
     "metadata": {},
     "output_type": "execute_result"
    },
    {
     "data": {
      "image/png": "[encoded data removed]",
      "text/plain": [
       "<Figure size 640x480 with 1 Axes>"
      ]
     },
     "metadata": {},
     "output_type": "display_data"
    }
   ],
   "source": [
    "import matplotlib.pyplot as plt\n",
    "import numpy as np\n",
    "\n",
    "\n",
    "xs = np.linspace(-3, 2)\n",
    "\n",
    "\n",
    "@np.vectorize\n",
    "def phi_m_numpy(xi):\n",
    "    return eval(pycode(phi_m).replace(r\"\\xi\", \"xi\"), locals())\n",
    "\n",
    "\n",
    "plt.plot(xs, phi_m_numpy(xs))"
   ]
  },
  {
   "cell_type": "code",
   "execution_count": 16,
   "id": "5c772219-ad0a-49db-bb05-c14485ea8657",
   "metadata": {},
   "outputs": [],
   "source": [
    "psi_m_int = (1 - phi_m) / xi\n",
    "\n",
    "psi_m = sp.integrate(psi_m_int, (xi, 0, z / L))"
   ]
  },
  {
   "cell_type": "code",
   "execution_count": 17,
   "id": "3ec1c4d0-16bf-433a-b6cd-36214926426a",
   "metadata": {},
   "outputs": [
    {
     "data": {
      "text/latex": [
       "$\\displaystyle \\begin{cases} 2 \\log{\\left(\\sqrt[4]{1 - 16 \\min\\left(0, \\frac{z}{L}\\right)} + 1 \\right)} + \\log{\\left(\\sqrt{1 - 16 \\min\\left(0, \\frac{z}{L}\\right)} + 1 \\right)} - 2 \\operatorname{atan}{\\left(\\sqrt[4]{1 - 16 \\min\\left(0, \\frac{z}{L}\\right)} \\right)} - 3 \\log{\\left(2 \\right)} + \\frac{\\pi}{2} & \\text{for}\\: \\frac{z}{L} < 0 \\\\5 \\min\\left(0, \\frac{z}{L}\\right) - \\frac{5 z}{L} & \\text{otherwise} \\end{cases}$"
      ],
      "text/plain": [
       "Piecewise((2*log((1 - 16*Min(0, z/L))**(1/4) + 1) + log(sqrt(1 - 16*Min(0, z/L)) + 1) - 2*atan((1 - 16*Min(0, z/L))**(1/4)) - 3*log(2) + pi/2, z/L < 0), (5*Min(0, z/L) - 5*z/L, True))"
      ]
     },
     "execution_count": 17,
     "metadata": {},
     "output_type": "execute_result"
    }
   ],
   "source": [
    "psi_m"
   ]
  },
  {
   "cell_type": "code",
   "execution_count": 18,
   "id": "0de148ad-54e7-4ad5-b466-55c3c24a2e9d",
   "metadata": {},
   "outputs": [
    {
     "data": {
      "text/latex": [
       "$\\displaystyle 0$"
      ],
      "text/plain": [
       "0"
      ]
     },
     "execution_count": 18,
     "metadata": {},
     "output_type": "execute_result"
    }
   ],
   "source": [
    "psi_m.refine(sp.Q.zero(z)).subs(z, 0)"
   ]
  },
  {
   "cell_type": "code",
   "execution_count": 19,
   "id": "6d575fef-dc96-4adf-be81-eb5de6891f95",
   "metadata": {},
   "outputs": [
    {
     "data": {
      "text/latex": [
       "$\\displaystyle - \\frac{5 z}{L}$"
      ],
      "text/plain": [
       "-5*z/L"
      ]
     },
     "execution_count": 19,
     "metadata": {},
     "output_type": "execute_result"
    }
   ],
   "source": [
    "psi_m_stable = psi_m.refine(sp.Q.positive(L)).subs(L, Lp)\n",
    "psi_m_stable"
   ]
  },
  {
   "cell_type": "code",
   "execution_count": 20,
   "id": "fdd62c44-b289-4391-90ce-8a0447aac7a6",
   "metadata": {},
   "outputs": [
    {
     "data": {
      "text/latex": [
       "$\\displaystyle 2 \\log{\\left(\\sqrt[4]{1 - \\frac{16 z}{L}} + 1 \\right)} + \\log{\\left(\\sqrt{1 - \\frac{16 z}{L}} + 1 \\right)} - 2 \\operatorname{atan}{\\left(\\sqrt[4]{1 - \\frac{16 z}{L}} \\right)} - 3 \\log{\\left(2 \\right)} + \\frac{\\pi}{2}$"
      ],
      "text/plain": [
       "2*log((1 - 16*z/L)**(1/4) + 1) + log(sqrt(1 - 16*z/L) + 1) - 2*atan((1 - 16*z/L)**(1/4)) - 3*log(2) + pi/2"
      ]
     },
     "execution_count": 20,
     "metadata": {},
     "output_type": "execute_result"
    }
   ],
   "source": [
    "psi_m_unstable = psi_m.refine(sp.Q.negative(L)).subs(L, Ln)\n",
    "psi_m_unstable"
   ]
  },
  {
   "cell_type": "markdown",
   "id": "fff3de38-8381-4036-ac71-e97c406eeb99",
   "metadata": {
    "tags": []
   },
   "source": [
    "### Substitute $\\sqrt[4]{1 - 16 z/L} \\to \\xi_4$"
   ]
  },
  {
   "cell_type": "code",
   "execution_count": 21,
   "id": "80623cc5-cc23-4f96-aa3d-cd2dda28f763",
   "metadata": {},
   "outputs": [],
   "source": [
    "xi4 = symbols(r\"\\xi_4\", positive=True)"
   ]
  },
  {
   "cell_type": "code",
   "execution_count": 22,
   "id": "9ec3eafb-e9db-47c9-833f-4518d5b362d0",
   "metadata": {},
   "outputs": [
    {
     "data": {
      "text/latex": [
       "$\\displaystyle 2 \\log{\\left(\\xi_{4} + 1 \\right)} + \\log{\\left(\\xi_{4}^{2} + 1 \\right)} - 2 \\operatorname{atan}{\\left(\\xi_{4} \\right)} - 3 \\log{\\left(2 \\right)} + \\frac{\\pi}{2}$"
      ],
      "text/plain": [
       "2*log(\\xi_4 + 1) + log(\\xi_4**2 + 1) - 2*atan(\\xi_4) - 3*log(2) + pi/2"
      ]
     },
     "execution_count": 22,
     "metadata": {},
     "output_type": "execute_result"
    }
   ],
   "source": [
    "(psi_m_unstable_param := psi_m_unstable.subs(sp.root(1 - 16 * z / Ln, 4), xi4))"
   ]
  },
  {
   "cell_type": "code",
   "execution_count": 23,
   "id": "25e8c8a6-6aac-4fc2-8a98-887fa21e84c0",
   "metadata": {},
   "outputs": [
    {
     "data": {
      "text/html": [
       "<style>pre { line-height: 125%; }\n",
       "td.linenos .normal { color: inherit; background-color: transparent; padding-left: 5px; padding-right: 5px; }\n",
       "span.linenos { color: inherit; background-color: transparent; padding-left: 5px; padding-right: 5px; }\n",
       "td.linenos .special { color: #000000; background-color: #ffffc0; padding-left: 5px; padding-right: 5px; }\n",
       "span.linenos.special { color: #000000; background-color: #ffffc0; padding-left: 5px; padding-right: 5px; }\n",
       ".output_html .hll { background-color: #ffffcc }\n",
       ".output_html { background: #f8f8f8; }\n",
       ".output_html .c { color: #408080; font-style: italic } /* Comment */\n",
       ".output_html .err { border: 1px solid #FF0000 } /* Error */\n",
       ".output_html .k { color: #008000; font-weight: bold } /* Keyword */\n",
       ".output_html .o { color: #666666 } /* Operator */\n",
       ".output_html .ch { color: #408080; font-style: italic } /* Comment.Hashbang */\n",
       ".output_html .cm { color: #408080; font-style: italic } /* Comment.Multiline */\n",
       ".output_html .cp { color: #BC7A00 } /* Comment.Preproc */\n",
       ".output_html .cpf { color: #408080; font-style: italic } /* Comment.PreprocFile */\n",
       ".output_html .c1 { color: #408080; font-style: italic } /* Comment.Single */\n",
       ".output_html .cs { color: #408080; font-style: italic } /* Comment.Special */\n",
       ".output_html .gd { color: #A00000 } /* Generic.Deleted */\n",
       ".output_html .ge { font-style: italic } /* Generic.Emph */\n",
       ".output_html .gr { color: #FF0000 } /* Generic.Error */\n",
       ".output_html .gh { color: #000080; font-weight: bold } /* Generic.Heading */\n",
       ".output_html .gi { color: #00A000 } /* Generic.Inserted */\n",
       ".output_html .go { color: #888888 } /* Generic.Output */\n",
       ".output_html .gp { color: #000080; font-weight: bold } /* Generic.Prompt */\n",
       ".output_html .gs { font-weight: bold } /* Generic.Strong */\n",
       ".output_html .gu { color: #800080; font-weight: bold } /* Generic.Subheading */\n",
       ".output_html .gt { color: #0044DD } /* Generic.Traceback */\n",
       ".output_html .kc { color: #008000; font-weight: bold } /* Keyword.Constant */\n",
       ".output_html .kd { color: #008000; font-weight: bold } /* Keyword.Declaration */\n",
       ".output_html .kn { color: #008000; font-weight: bold } /* Keyword.Namespace */\n",
       ".output_html .kp { color: #008000 } /* Keyword.Pseudo */\n",
       ".output_html .kr { color: #008000; font-weight: bold } /* Keyword.Reserved */\n",
       ".output_html .kt { color: #B00040 } /* Keyword.Type */\n",
       ".output_html .m { color: #666666 } /* Literal.Number */\n",
       ".output_html .s { color: #BA2121 } /* Literal.String */\n",
       ".output_html .na { color: #7D9029 } /* Name.Attribute */\n",
       ".output_html .nb { color: #008000 } /* Name.Builtin */\n",
       ".output_html .nc { color: #0000FF; font-weight: bold } /* Name.Class */\n",
       ".output_html .no { color: #880000 } /* Name.Constant */\n",
       ".output_html .nd { color: #AA22FF } /* Name.Decorator */\n",
       ".output_html .ni { color: #999999; font-weight: bold } /* Name.Entity */\n",
       ".output_html .ne { color: #D2413A; font-weight: bold } /* Name.Exception */\n",
       ".output_html .nf { color: #0000FF } /* Name.Function */\n",
       ".output_html .nl { color: #A0A000 } /* Name.Label */\n",
       ".output_html .nn { color: #0000FF; font-weight: bold } /* Name.Namespace */\n",
       ".output_html .nt { color: #008000; font-weight: bold } /* Name.Tag */\n",
       ".output_html .nv { color: #19177C } /* Name.Variable */\n",
       ".output_html .ow { color: #AA22FF; font-weight: bold } /* Operator.Word */\n",
       ".output_html .w { color: #bbbbbb } /* Text.Whitespace */\n",
       ".output_html .mb { color: #666666 } /* Literal.Number.Bin */\n",
       ".output_html .mf { color: #666666 } /* Literal.Number.Float */\n",
       ".output_html .mh { color: #666666 } /* Literal.Number.Hex */\n",
       ".output_html .mi { color: #666666 } /* Literal.Number.Integer */\n",
       ".output_html .mo { color: #666666 } /* Literal.Number.Oct */\n",
       ".output_html .sa { color: #BA2121 } /* Literal.String.Affix */\n",
       ".output_html .sb { color: #BA2121 } /* Literal.String.Backtick */\n",
       ".output_html .sc { color: #BA2121 } /* Literal.String.Char */\n",
       ".output_html .dl { color: #BA2121 } /* Literal.String.Delimiter */\n",
       ".output_html .sd { color: #BA2121; font-style: italic } /* Literal.String.Doc */\n",
       ".output_html .s2 { color: #BA2121 } /* Literal.String.Double */\n",
       ".output_html .se { color: #BB6622; font-weight: bold } /* Literal.String.Escape */\n",
       ".output_html .sh { color: #BA2121 } /* Literal.String.Heredoc */\n",
       ".output_html .si { color: #BB6688; font-weight: bold } /* Literal.String.Interpol */\n",
       ".output_html .sx { color: #008000 } /* Literal.String.Other */\n",
       ".output_html .sr { color: #BB6688 } /* Literal.String.Regex */\n",
       ".output_html .s1 { color: #BA2121 } /* Literal.String.Single */\n",
       ".output_html .ss { color: #19177C } /* Literal.String.Symbol */\n",
       ".output_html .bp { color: #008000 } /* Name.Builtin.Pseudo */\n",
       ".output_html .fm { color: #0000FF } /* Name.Function.Magic */\n",
       ".output_html .vc { color: #19177C } /* Name.Variable.Class */\n",
       ".output_html .vg { color: #19177C } /* Name.Variable.Global */\n",
       ".output_html .vi { color: #19177C } /* Name.Variable.Instance */\n",
       ".output_html .vm { color: #19177C } /* Name.Variable.Magic */\n",
       ".output_html .il { color: #666666 } /* Literal.Number.Integer.Long */</style><div class=\"highlight\"><pre><span></span><span class=\"n\">np</span><span class=\"o\">.</span><span class=\"n\">log</span><span class=\"p\">((</span><span class=\"mi\">1</span><span class=\"o\">/</span><span class=\"mi\">8</span><span class=\"p\">)</span><span class=\"o\">*</span><span class=\"p\">(</span><span class=\"n\">xi4</span> <span class=\"o\">+</span> <span class=\"mi\">1</span><span class=\"p\">)</span><span class=\"o\">**</span><span class=\"mi\">2</span><span class=\"o\">*</span><span class=\"p\">(</span><span class=\"n\">xi4</span><span class=\"o\">**</span><span class=\"mi\">2</span> <span class=\"o\">+</span> <span class=\"mi\">1</span><span class=\"p\">))</span> <span class=\"o\">-</span> <span class=\"mi\">2</span><span class=\"o\">*</span><span class=\"n\">np</span><span class=\"o\">.</span><span class=\"n\">atan</span><span class=\"p\">(</span><span class=\"n\">xi4</span><span class=\"p\">)</span> <span class=\"o\">+</span> <span class=\"p\">(</span><span class=\"mi\">1</span><span class=\"o\">/</span><span class=\"mi\">2</span><span class=\"p\">)</span><span class=\"o\">*</span><span class=\"n\">np</span><span class=\"o\">.</span><span class=\"n\">pi</span>\n",
       "</pre></div>\n"
      ],
      "text/latex": [
       "\\begin{Verbatim}[commandchars=\\\\\\{\\}]\n",
       "\\PY{n}{np}\\PY{o}{.}\\PY{n}{log}\\PY{p}{(}\\PY{p}{(}\\PY{l+m+mi}{1}\\PY{o}{/}\\PY{l+m+mi}{8}\\PY{p}{)}\\PY{o}{*}\\PY{p}{(}\\PY{n}{xi4} \\PY{o}{+} \\PY{l+m+mi}{1}\\PY{p}{)}\\PY{o}{*}\\PY{o}{*}\\PY{l+m+mi}{2}\\PY{o}{*}\\PY{p}{(}\\PY{n}{xi4}\\PY{o}{*}\\PY{o}{*}\\PY{l+m+mi}{2} \\PY{o}{+} \\PY{l+m+mi}{1}\\PY{p}{)}\\PY{p}{)} \\PY{o}{\\PYZhy{}} \\PY{l+m+mi}{2}\\PY{o}{*}\\PY{n}{np}\\PY{o}{.}\\PY{n}{atan}\\PY{p}{(}\\PY{n}{xi4}\\PY{p}{)} \\PY{o}{+} \\PY{p}{(}\\PY{l+m+mi}{1}\\PY{o}{/}\\PY{l+m+mi}{2}\\PY{p}{)}\\PY{o}{*}\\PY{n}{np}\\PY{o}{.}\\PY{n}{pi}\n",
       "\\end{Verbatim}\n"
      ],
      "text/plain": [
       "np.log((1/8)*(xi4 + 1)**2*(xi4**2 + 1)) - 2*np.atan(xi4) + (1/2)*np.pi"
      ]
     },
     "metadata": {},
     "output_type": "display_data"
    }
   ],
   "source": [
    "show_python(sp.logcombine(psi_m_unstable_param))"
   ]
  },
  {
   "cell_type": "code",
   "execution_count": 24,
   "id": "37dce899-288a-4183-81de-8eb4b4b24b68",
   "metadata": {
    "tags": []
   },
   "outputs": [
    {
     "data": {
      "image/png": "[encoded data removed]",
      "text/plain": [
       "<Figure size 640x480 with 1 Axes>"
      ]
     },
     "metadata": {},
     "output_type": "display_data"
    }
   ],
   "source": [
    "p1 = sp.plot(\n",
    "    psi_m_unstable.subs(z / Ln, xi),\n",
    "    (xi, -2, -0.01),\n",
    "    show=False,\n",
    "    title=r\"Integrated stability functions $\\int_0^{\\xi} \\phi_m$\",\n",
    "    label=\"unstable\",\n",
    ")\n",
    "p2 = sp.plot(\n",
    "    psi_m_stable.subs(z / Lp, xi), (xi, 0, 2), show=False, label=\"stable\"\n",
    ")\n",
    "p1.append(p2[0])\n",
    "p1.show()"
   ]
  },
  {
   "cell_type": "markdown",
   "id": "2e763fd1-bc9a-412f-b614-7f1a4e7615be",
   "metadata": {
    "tags": []
   },
   "source": [
    "### Compare with [Basu (2018)](https://bitbucket.org/sukantabasu/hybridwind/src/master/HybridWind.m)"
   ]
  },
  {
   "cell_type": "code",
   "execution_count": 26,
   "id": "bda444da-404e-4066-a458-721761de1bce",
   "metadata": {},
   "outputs": [
    {
     "data": {
      "text/latex": [
       "$\\displaystyle 2 \\log{\\left(\\frac{\\xi_{4}}{2} + \\frac{1}{2} \\right)} + \\log{\\left(\\frac{\\xi_{4}^{2}}{2} + \\frac{1}{2} \\right)} - 2 \\operatorname{atan}{\\left(\\xi_{4} \\right)} + \\frac{\\pi}{2}$"
      ],
      "text/plain": [
       "2*log(\\xi_4/2 + 1/2) + log(\\xi_4**2/2 + 1/2) - 2*atan(\\xi_4) + pi/2"
      ]
     },
     "execution_count": 26,
     "metadata": {},
     "output_type": "execute_result"
    }
   ],
   "source": [
    "basu_unstable = (\n",
    "    2 * sp.log((1 + xi4) / 2)\n",
    "    + sp.log((1 + xi4 ** 2) / 2)\n",
    "    - 2 * sp.atan(xi4)\n",
    "    + sp.pi / 2\n",
    ")\n",
    "basu_unstable"
   ]
  },
  {
   "cell_type": "code",
   "execution_count": 27,
   "id": "f6df1fdd-485b-439b-9644-95b57722b358",
   "metadata": {},
   "outputs": [
    {
     "data": {
      "image/png": "[encoded data removed]",
      "text/plain": [
       "<Figure size 640x480 with 1 Axes>"
      ]
     },
     "metadata": {},
     "output_type": "display_data"
    },
    {
     "data": {
      "text/plain": [
       "<sympy.plotting.plot.Plot at 0x7f7c05a184f0>"
      ]
     },
     "execution_count": 27,
     "metadata": {},
     "output_type": "execute_result"
    }
   ],
   "source": [
    "sp.plot(basu_unstable.subs(xi4, sp.root(1 - 16 * xi, 4)), (xi, -2, -0.01))"
   ]
  },
  {
   "cell_type": "code",
   "execution_count": 29,
   "id": "8da9a473-e7a2-41b1-81e5-f08d43cf0734",
   "metadata": {},
   "outputs": [
    {
     "data": {
      "text/latex": [
       "$\\displaystyle 0$"
      ],
      "text/plain": [
       "0"
      ]
     },
     "execution_count": 29,
     "metadata": {},
     "output_type": "execute_result"
    }
   ],
   "source": [
    "(psi_m_unstable_param - basu_unstable).simplify()"
   ]
  },
  {
   "cell_type": "markdown",
   "id": "d044fc9c-aa80-4dda-be47-c13bec9788a8",
   "metadata": {},
   "source": [
    "Hence, both expressions are identical."
   ]
  },
  {
   "cell_type": "markdown",
   "id": "4be2f70f-4341-45d7-ae0e-181caf701820",
   "metadata": {},
   "source": [
    "## Computing $\\Psi_M(z_0, z_1, L)$"
   ]
  },
  {
   "cell_type": "code",
   "execution_count": 30,
   "id": "3e30b2f1-cd77-4dee-9ad2-870a1779c253",
   "metadata": {},
   "outputs": [
    {
     "data": {
      "text/latex": [
       "$\\displaystyle \\log{\\left(\\frac{z_{1}}{z_{0}} \\right)} - \\frac{5 z_{0}}{L} + \\frac{5 z_{1}}{L}$"
      ],
      "text/plain": [
       "log(z_1/z_0) - 5*z_0/L + 5*z_1/L"
      ]
     },
     "execution_count": 30,
     "metadata": {},
     "output_type": "execute_result"
    }
   ],
   "source": [
    "def psi_m_stable_at(x):\n",
    "    return psi_m_stable.subs(z / Lp, x)\n",
    "\n",
    "\n",
    "PsiM_stable = sp.log(z1 / z0) - psi_m_stable_at(z1 / L) + psi_m_stable_at(z0 / L)\n",
    "PsiM_stable"
   ]
  },
  {
   "cell_type": "code",
   "execution_count": 31,
   "id": "12c02b95-5e3a-45c3-9050-0e2e0bddc65a",
   "metadata": {},
   "outputs": [
    {
     "data": {
      "text/latex": [
       "$\\displaystyle \\log{\\left(\\frac{z_{1}}{z_{0}} \\right)} + 2 \\log{\\left(\\sqrt[4]{1 - \\frac{16 z_{0}}{L}} + 1 \\right)} + \\log{\\left(\\sqrt{1 - \\frac{16 z_{0}}{L}} + 1 \\right)} - 2 \\log{\\left(\\sqrt[4]{1 - \\frac{16 z_{1}}{L}} + 1 \\right)} - \\log{\\left(\\sqrt{1 - \\frac{16 z_{1}}{L}} + 1 \\right)} - 2 \\operatorname{atan}{\\left(\\sqrt[4]{1 - \\frac{16 z_{0}}{L}} \\right)} + 2 \\operatorname{atan}{\\left(\\sqrt[4]{1 - \\frac{16 z_{1}}{L}} \\right)}$"
      ],
      "text/plain": [
       "log(z_1/z_0) + 2*log((1 - 16*z_0/L)**(1/4) + 1) + log(sqrt(1 - 16*z_0/L) + 1) - 2*log((1 - 16*z_1/L)**(1/4) + 1) - log(sqrt(1 - 16*z_1/L) + 1) - 2*atan((1 - 16*z_0/L)**(1/4)) + 2*atan((1 - 16*z_1/L)**(1/4))"
      ]
     },
     "execution_count": 31,
     "metadata": {},
     "output_type": "execute_result"
    }
   ],
   "source": [
    "def f_psi_m_unstable(x):\n",
    "    return psi_m_unstable.subs(z / Ln, x)\n",
    "\n",
    "\n",
    "PsiM_unstable = (\n",
    "    sp.log(z1 / z0) - f_psi_m_unstable(z1 / L) + f_psi_m_unstable(z0 / L)\n",
    ")\n",
    "PsiM_unstable"
   ]
  },
  {
   "cell_type": "markdown",
   "id": "b75d2f27-1c68-41eb-8313-0d5c2f592e90",
   "metadata": {},
   "source": [
    "# Heat"
   ]
  },
  {
   "cell_type": "code",
   "execution_count": 32,
   "id": "81256bb3-68fe-443c-bce6-ff54a98deefc",
   "metadata": {},
   "outputs": [
    {
     "data": {
      "text/latex": [
       "$\\displaystyle \\begin{cases} 5 \\xi + 1 & \\text{for}\\: \\xi \\geq 0 \\\\\\frac{1}{\\sqrt{1 - 16 \\xi}} & \\text{otherwise} \\end{cases}$"
      ],
      "text/plain": [
       "Piecewise((5*\\xi + 1, \\xi >= 0), (1/sqrt(1 - 16*\\xi), True))"
      ]
     },
     "execution_count": 32,
     "metadata": {},
     "output_type": "execute_result"
    }
   ],
   "source": [
    "phi_h = sp.Piecewise((1 + 5 * xi, xi >= 0), (sp.root((1 - 16 * xi), -2), xi < 0))\n",
    "phi_h"
   ]
  },
  {
   "cell_type": "code",
   "execution_count": 33,
   "id": "35f4b58b-b34f-4e1b-89ae-50dcb5a3e00b",
   "metadata": {},
   "outputs": [
    {
     "data": {
      "image/png": "[encoded data removed]",
      "text/plain": [
       "<Figure size 640x480 with 1 Axes>"
      ]
     },
     "metadata": {},
     "output_type": "display_data"
    },
    {
     "data": {
      "text/plain": [
       "<sympy.plotting.plot.Plot at 0x7f7c0cce4160>"
      ]
     },
     "execution_count": 33,
     "metadata": {},
     "output_type": "execute_result"
    }
   ],
   "source": [
    "sp.plot(phi_h, (xi, -3, 1.5), axis_center=(0, 0))"
   ]
  },
  {
   "cell_type": "code",
   "execution_count": 34,
   "id": "66d2fa0e-f20d-49b3-8e43-19a59a41e962",
   "metadata": {},
   "outputs": [],
   "source": [
    "psi_h_int = (1 - phi_h) / xi\n",
    "\n",
    "psi_h = sp.integrate(psi_h_int, (xi, 0, z / L))"
   ]
  },
  {
   "cell_type": "code",
   "execution_count": 35,
   "id": "3ac0b588-ae8c-4f6c-8851-bcbd2c340090",
   "metadata": {},
   "outputs": [
    {
     "data": {
      "text/latex": [
       "$\\displaystyle \\begin{cases} 2 \\log{\\left(\\sqrt{1 - 16 \\min\\left(0, \\frac{z}{L}\\right)} + 1 \\right)} - 2 \\log{\\left(2 \\right)} & \\text{for}\\: \\frac{z}{L} < 0 \\\\5 \\min\\left(0, \\frac{z}{L}\\right) - \\frac{5 z}{L} & \\text{otherwise} \\end{cases}$"
      ],
      "text/plain": [
       "Piecewise((2*log(sqrt(1 - 16*Min(0, z/L)) + 1) - 2*log(2), z/L < 0), (5*Min(0, z/L) - 5*z/L, True))"
      ]
     },
     "execution_count": 35,
     "metadata": {},
     "output_type": "execute_result"
    }
   ],
   "source": [
    "psi_h"
   ]
  },
  {
   "cell_type": "code",
   "execution_count": 36,
   "id": "dddbb9a0-89b4-4b5a-86c2-e42c3025dfd1",
   "metadata": {},
   "outputs": [
    {
     "data": {
      "text/latex": [
       "$\\displaystyle 0$"
      ],
      "text/plain": [
       "0"
      ]
     },
     "execution_count": 36,
     "metadata": {},
     "output_type": "execute_result"
    }
   ],
   "source": [
    "psi_h.refine(sp.Q.zero(z)).subs(z, 0)"
   ]
  },
  {
   "cell_type": "code",
   "execution_count": 37,
   "id": "96143ebb-29f3-4f23-aa2b-743b15ca4388",
   "metadata": {},
   "outputs": [
    {
     "data": {
      "text/latex": [
       "$\\displaystyle - \\frac{5 z}{L}$"
      ],
      "text/plain": [
       "-5*z/L"
      ]
     },
     "execution_count": 37,
     "metadata": {},
     "output_type": "execute_result"
    }
   ],
   "source": [
    "psi_h_stable = psi_h.refine(sp.Q.positive(L)).subs(L, Lp)\n",
    "psi_h_stable"
   ]
  },
  {
   "cell_type": "code",
   "execution_count": 38,
   "id": "1504c62d-18e7-434a-b956-56483f01112d",
   "metadata": {},
   "outputs": [
    {
     "data": {
      "text/latex": [
       "$\\displaystyle 2 \\log{\\left(\\sqrt{1 - \\frac{16 z}{L}} + 1 \\right)} - 2 \\log{\\left(2 \\right)}$"
      ],
      "text/plain": [
       "2*log(sqrt(1 - 16*z/L) + 1) - 2*log(2)"
      ]
     },
     "execution_count": 38,
     "metadata": {},
     "output_type": "execute_result"
    }
   ],
   "source": [
    "psi_h_unstable = psi_h.refine(sp.Q.negative(L)).subs(L, Ln)\n",
    "psi_h_unstable"
   ]
  },
  {
   "cell_type": "markdown",
   "id": "771d571d-ea5e-470b-a61e-9ac467c57167",
   "metadata": {
    "tags": []
   },
   "source": [
    "### Substitute $\\sqrt{1 - 16 z/L} \\to \\xi_2$"
   ]
  },
  {
   "cell_type": "code",
   "execution_count": 42,
   "id": "813ea72a-6879-4481-8061-bd09a4cb3652",
   "metadata": {},
   "outputs": [],
   "source": [
    "xi2 = symbols(r\"\\xi_2\", positive=True)"
   ]
  },
  {
   "cell_type": "code",
   "execution_count": 44,
   "id": "75b56a60-87e2-40d1-9d36-65b632317f22",
   "metadata": {},
   "outputs": [
    {
     "data": {
      "text/latex": [
       "$\\displaystyle 2 \\log{\\left(\\xi_{2} + 1 \\right)} - 2 \\log{\\left(2 \\right)}$"
      ],
      "text/plain": [
       "2*log(\\xi_2 + 1) - 2*log(2)"
      ]
     },
     "execution_count": 44,
     "metadata": {},
     "output_type": "execute_result"
    }
   ],
   "source": [
    "(psi_h_unstable_param := psi_h_unstable.subs(sp.root(1 - 16 * z / Ln, 2), xi2))"
   ]
  },
  {
   "cell_type": "code",
   "execution_count": 45,
   "id": "2759e444-da18-4d1e-b959-6ef30ed4448b",
   "metadata": {},
   "outputs": [
    {
     "data": {
      "text/latex": [
       "$\\displaystyle \\log{\\left(\\frac{\\left(\\xi_{2} + 1\\right)^{2}}{4} \\right)}$"
      ],
      "text/plain": [
       "log((\\xi_2 + 1)**2/4)"
      ]
     },
     "execution_count": 45,
     "metadata": {},
     "output_type": "execute_result"
    }
   ],
   "source": [
    "(psi_h_unstable_param := sp.logcombine(psi_h_unstable_param))"
   ]
  },
  {
   "cell_type": "code",
   "execution_count": 46,
   "id": "aa58c9e1-7c26-4645-90be-b81e4f1cdab1",
   "metadata": {},
   "outputs": [
    {
     "data": {
      "text/html": [
       "<style>pre { line-height: 125%; }\n",
       "td.linenos .normal { color: inherit; background-color: transparent; padding-left: 5px; padding-right: 5px; }\n",
       "span.linenos { color: inherit; background-color: transparent; padding-left: 5px; padding-right: 5px; }\n",
       "td.linenos .special { color: #000000; background-color: #ffffc0; padding-left: 5px; padding-right: 5px; }\n",
       "span.linenos.special { color: #000000; background-color: #ffffc0; padding-left: 5px; padding-right: 5px; }\n",
       ".output_html .hll { background-color: #ffffcc }\n",
       ".output_html { background: #f8f8f8; }\n",
       ".output_html .c { color: #408080; font-style: italic } /* Comment */\n",
       ".output_html .err { border: 1px solid #FF0000 } /* Error */\n",
       ".output_html .k { color: #008000; font-weight: bold } /* Keyword */\n",
       ".output_html .o { color: #666666 } /* Operator */\n",
       ".output_html .ch { color: #408080; font-style: italic } /* Comment.Hashbang */\n",
       ".output_html .cm { color: #408080; font-style: italic } /* Comment.Multiline */\n",
       ".output_html .cp { color: #BC7A00 } /* Comment.Preproc */\n",
       ".output_html .cpf { color: #408080; font-style: italic } /* Comment.PreprocFile */\n",
       ".output_html .c1 { color: #408080; font-style: italic } /* Comment.Single */\n",
       ".output_html .cs { color: #408080; font-style: italic } /* Comment.Special */\n",
       ".output_html .gd { color: #A00000 } /* Generic.Deleted */\n",
       ".output_html .ge { font-style: italic } /* Generic.Emph */\n",
       ".output_html .gr { color: #FF0000 } /* Generic.Error */\n",
       ".output_html .gh { color: #000080; font-weight: bold } /* Generic.Heading */\n",
       ".output_html .gi { color: #00A000 } /* Generic.Inserted */\n",
       ".output_html .go { color: #888888 } /* Generic.Output */\n",
       ".output_html .gp { color: #000080; font-weight: bold } /* Generic.Prompt */\n",
       ".output_html .gs { font-weight: bold } /* Generic.Strong */\n",
       ".output_html .gu { color: #800080; font-weight: bold } /* Generic.Subheading */\n",
       ".output_html .gt { color: #0044DD } /* Generic.Traceback */\n",
       ".output_html .kc { color: #008000; font-weight: bold } /* Keyword.Constant */\n",
       ".output_html .kd { color: #008000; font-weight: bold } /* Keyword.Declaration */\n",
       ".output_html .kn { color: #008000; font-weight: bold } /* Keyword.Namespace */\n",
       ".output_html .kp { color: #008000 } /* Keyword.Pseudo */\n",
       ".output_html .kr { color: #008000; font-weight: bold } /* Keyword.Reserved */\n",
       ".output_html .kt { color: #B00040 } /* Keyword.Type */\n",
       ".output_html .m { color: #666666 } /* Literal.Number */\n",
       ".output_html .s { color: #BA2121 } /* Literal.String */\n",
       ".output_html .na { color: #7D9029 } /* Name.Attribute */\n",
       ".output_html .nb { color: #008000 } /* Name.Builtin */\n",
       ".output_html .nc { color: #0000FF; font-weight: bold } /* Name.Class */\n",
       ".output_html .no { color: #880000 } /* Name.Constant */\n",
       ".output_html .nd { color: #AA22FF } /* Name.Decorator */\n",
       ".output_html .ni { color: #999999; font-weight: bold } /* Name.Entity */\n",
       ".output_html .ne { color: #D2413A; font-weight: bold } /* Name.Exception */\n",
       ".output_html .nf { color: #0000FF } /* Name.Function */\n",
       ".output_html .nl { color: #A0A000 } /* Name.Label */\n",
       ".output_html .nn { color: #0000FF; font-weight: bold } /* Name.Namespace */\n",
       ".output_html .nt { color: #008000; font-weight: bold } /* Name.Tag */\n",
       ".output_html .nv { color: #19177C } /* Name.Variable */\n",
       ".output_html .ow { color: #AA22FF; font-weight: bold } /* Operator.Word */\n",
       ".output_html .w { color: #bbbbbb } /* Text.Whitespace */\n",
       ".output_html .mb { color: #666666 } /* Literal.Number.Bin */\n",
       ".output_html .mf { color: #666666 } /* Literal.Number.Float */\n",
       ".output_html .mh { color: #666666 } /* Literal.Number.Hex */\n",
       ".output_html .mi { color: #666666 } /* Literal.Number.Integer */\n",
       ".output_html .mo { color: #666666 } /* Literal.Number.Oct */\n",
       ".output_html .sa { color: #BA2121 } /* Literal.String.Affix */\n",
       ".output_html .sb { color: #BA2121 } /* Literal.String.Backtick */\n",
       ".output_html .sc { color: #BA2121 } /* Literal.String.Char */\n",
       ".output_html .dl { color: #BA2121 } /* Literal.String.Delimiter */\n",
       ".output_html .sd { color: #BA2121; font-style: italic } /* Literal.String.Doc */\n",
       ".output_html .s2 { color: #BA2121 } /* Literal.String.Double */\n",
       ".output_html .se { color: #BB6622; font-weight: bold } /* Literal.String.Escape */\n",
       ".output_html .sh { color: #BA2121 } /* Literal.String.Heredoc */\n",
       ".output_html .si { color: #BB6688; font-weight: bold } /* Literal.String.Interpol */\n",
       ".output_html .sx { color: #008000 } /* Literal.String.Other */\n",
       ".output_html .sr { color: #BB6688 } /* Literal.String.Regex */\n",
       ".output_html .s1 { color: #BA2121 } /* Literal.String.Single */\n",
       ".output_html .ss { color: #19177C } /* Literal.String.Symbol */\n",
       ".output_html .bp { color: #008000 } /* Name.Builtin.Pseudo */\n",
       ".output_html .fm { color: #0000FF } /* Name.Function.Magic */\n",
       ".output_html .vc { color: #19177C } /* Name.Variable.Class */\n",
       ".output_html .vg { color: #19177C } /* Name.Variable.Global */\n",
       ".output_html .vi { color: #19177C } /* Name.Variable.Instance */\n",
       ".output_html .vm { color: #19177C } /* Name.Variable.Magic */\n",
       ".output_html .il { color: #666666 } /* Literal.Number.Integer.Long */</style><div class=\"highlight\"><pre><span></span><span class=\"n\">np</span><span class=\"o\">.</span><span class=\"n\">log</span><span class=\"p\">((</span><span class=\"mi\">1</span><span class=\"o\">/</span><span class=\"mi\">4</span><span class=\"p\">)</span><span class=\"o\">*</span><span class=\"p\">(</span><span class=\"n\">xi2</span> <span class=\"o\">+</span> <span class=\"mi\">1</span><span class=\"p\">)</span><span class=\"o\">**</span><span class=\"mi\">2</span><span class=\"p\">)</span>\n",
       "</pre></div>\n"
      ],
      "text/latex": [
       "\\begin{Verbatim}[commandchars=\\\\\\{\\}]\n",
       "\\PY{n}{np}\\PY{o}{.}\\PY{n}{log}\\PY{p}{(}\\PY{p}{(}\\PY{l+m+mi}{1}\\PY{o}{/}\\PY{l+m+mi}{4}\\PY{p}{)}\\PY{o}{*}\\PY{p}{(}\\PY{n}{xi2} \\PY{o}{+} \\PY{l+m+mi}{1}\\PY{p}{)}\\PY{o}{*}\\PY{o}{*}\\PY{l+m+mi}{2}\\PY{p}{)}\n",
       "\\end{Verbatim}\n"
      ],
      "text/plain": [
       "np.log((1/4)*(xi2 + 1)**2)"
      ]
     },
     "metadata": {},
     "output_type": "display_data"
    }
   ],
   "source": [
    "show_python(psi_h_unstable_param)"
   ]
  },
  {
   "cell_type": "code",
   "execution_count": 47,
   "id": "5b911dcb-7a2e-4703-a990-bfcc0cd22978",
   "metadata": {
    "tags": []
   },
   "outputs": [
    {
     "data": {
      "image/png": "[encoded data removed]",
      "text/plain": [
       "<Figure size 640x480 with 1 Axes>"
      ]
     },
     "metadata": {},
     "output_type": "display_data"
    }
   ],
   "source": [
    "p1 = sp.plot(\n",
    "    psi_h_unstable.subs(z / Ln, xi),\n",
    "    (xi, -2, -0.01),\n",
    "    show=False,\n",
    "    title=r\"Integrated stability functions $\\int_0^{\\xi} \\phi_h$\",\n",
    "    label=\"unstable\",\n",
    ")\n",
    "p2 = sp.plot(\n",
    "    psi_h_stable.subs(z / Lp, xi), (xi, 0, 2), show=False, label=\"stable\"\n",
    ")\n",
    "p1.append(p2[0])\n",
    "p1.show()"
   ]
  },
  {
   "cell_type": "markdown",
   "id": "b4d5d010-8442-4183-be1b-db21d14ac41f",
   "metadata": {},
   "source": [
    "## Computing $\\Psi_H(z_0, z_1, L)$"
   ]
  },
  {
   "cell_type": "code",
   "execution_count": null,
   "id": "5bed1f38-4096-435d-ab70-1e0716547161",
   "metadata": {},
   "outputs": [],
   "source": [
    "def f_psi_h_stable(x):\n",
    "    return psi_h_stable.subs(z / Lp, x)\n",
    "\n",
    "\n",
    "PsiH_stable = sp.log(z1 / z0) - f_psi_h_stable(z1 / L) + f_psi_h_stable(z0 / L)\n",
    "PsiH_stable"
   ]
  },
  {
   "cell_type": "code",
   "execution_count": null,
   "id": "1e5af346-9e2c-4903-bcab-b0aff6e2d317",
   "metadata": {},
   "outputs": [],
   "source": [
    "def f_psi_h_unstable(x):\n",
    "    return psi_h_unstable.subs(z / Ln, x)\n",
    "\n",
    "\n",
    "PsiH_unstable = (\n",
    "    sp.log(z1 / z0) - f_psi_h_unstable(z1 / L) + f_psi_h_unstable(z0 / L)\n",
    ")\n",
    "PsiH_unstable"
   ]
  },
  {
   "cell_type": "markdown",
   "id": "6d96bd68-aa02-4995-a2bf-b7adc892a836",
   "metadata": {},
   "source": [
    "# Richardson number"
   ]
  },
  {
   "cell_type": "markdown",
   "id": "2b03503c-3cd8-4752-8a2b-2344de6c285f",
   "metadata": {},
   "source": [
    "## Stable"
   ]
  },
  {
   "cell_type": "code",
   "execution_count": null,
   "id": "826fadb5-edab-4126-98fb-d1c4b7c8b0a7",
   "metadata": {},
   "outputs": [],
   "source": [
    "Ri_b = symbols(\"Ri_b\", real=True)"
   ]
  },
  {
   "cell_type": "code",
   "execution_count": null,
   "id": "afc375dc-fdbb-4613-ae74-3b0bc397b095",
   "metadata": {},
   "outputs": [],
   "source": [
    "Ri_stable = (z1 / L) * (PsiH_stable / PsiM_stable ** 2)\n",
    "\n",
    "Ri_stable"
   ]
  },
  {
   "cell_type": "code",
   "execution_count": null,
   "id": "1ca62910-20c5-492f-a8ce-d8601f993318",
   "metadata": {},
   "outputs": [],
   "source": [
    "(Ri_stable_dL := Ri_stable.diff(L))"
   ]
  },
  {
   "cell_type": "code",
   "execution_count": null,
   "id": "30503a13-30bd-4c4a-85b7-dce410ac75c5",
   "metadata": {},
   "outputs": [],
   "source": [
    "Ri_stable_dL.factor()"
   ]
  },
  {
   "cell_type": "code",
   "execution_count": null,
   "id": "49cb37c4-b250-423d-8b8b-7c1b99e5b8f4",
   "metadata": {},
   "outputs": [],
   "source": [
    "Ri_stable_dL.simplify()"
   ]
  },
  {
   "cell_type": "markdown",
   "id": "532e7e55-b557-40e8-821a-488ea8617c10",
   "metadata": {},
   "source": [
    "## Unstable"
   ]
  },
  {
   "cell_type": "code",
   "execution_count": null,
   "id": "f09c5346-cf32-4d4a-9782-b8c5d149a451",
   "metadata": {},
   "outputs": [],
   "source": [
    "Ri_unstable = (z1 / L) * (PsiH_unstable / PsiM_unstable ** 2)\n",
    "\n",
    "Ri_unstable"
   ]
  },
  {
   "cell_type": "markdown",
   "id": "b185df12-5075-42cc-9891-eb5e441e708e",
   "metadata": {
    "tags": []
   },
   "source": [
    "### Substitute $\\sqrt{1 - 16 z_{0,1}/L} \\to h_0, h_1$"
   ]
  },
  {
   "cell_type": "code",
   "execution_count": null,
   "id": "d2ffa2c9-348e-48a7-b538-db6ce6391797",
   "metadata": {},
   "outputs": [],
   "source": [
    "h0, h1 = symbols(\"h_0 h_1\", real=True)"
   ]
  },
  {
   "cell_type": "code",
   "execution_count": null,
   "id": "7ae5dbdb-53e4-43e8-ad79-951313bd0193",
   "metadata": {},
   "outputs": [],
   "source": [
    "Ri_unstable.subs({sp.sqrt(1 - 16 * z0 / L): h0, sp.sqrt(1 - 16 * z1 / L): h1})"
   ]
  },
  {
   "cell_type": "code",
   "execution_count": null,
   "id": "3f35546b-03e8-4d65-bb50-43c114a5e0db",
   "metadata": {},
   "outputs": [],
   "source": [
    "Ri_unstable.diff(L)"
   ]
  },
  {
   "cell_type": "markdown",
   "id": "c9531694-fd69-4bb2-889c-dba4e6dbcd91",
   "metadata": {},
   "source": [
    "# Newton Raphson"
   ]
  },
  {
   "cell_type": "code",
   "execution_count": null,
   "id": "82bd2b5a-77e5-430a-a0f1-db0cd3a0f90c",
   "metadata": {},
   "outputs": [],
   "source": [
    "from sympy.codegen.algorithms import newtons_method\n",
    "from sympy.codegen.pyutils import render_as_module\n",
    "\n",
    "# For Fortran\n",
    "from sympy.codegen.futils import render_as_module as render_as_fortran_mod"
   ]
  },
  {
   "cell_type": "code",
   "execution_count": null,
   "id": "ec689ed5-f69d-41a4-950f-f0ad8bce8807",
   "metadata": {},
   "outputs": [],
   "source": [
    "dL, atol = symbols(\"dL atol\")"
   ]
  },
  {
   "cell_type": "code",
   "execution_count": null,
   "id": "9b0a1338-7cf7-4285-8ab9-d85c475fde37",
   "metadata": {},
   "outputs": [],
   "source": [
    "f = Ri_b - Ri_stable\n",
    "\n",
    "expr = L - f / f.diff(L)\n",
    "algo = newtons_method(expr, L, atol, dL)"
   ]
  },
  {
   "cell_type": "code",
   "execution_count": null,
   "id": "6683c5c8-d9c1-4ce7-b81c-d0856d3baa27",
   "metadata": {},
   "outputs": [],
   "source": [
    "print(render_as_module(algo))"
   ]
  },
  {
   "cell_type": "code",
   "execution_count": null,
   "id": "a037abff-5d47-426a-aa52-b53fa745263e",
   "metadata": {},
   "outputs": [],
   "source": [
    "print(render_as_fortran_mod(algo, \"find_ob_len_stable\"))"
   ]
  },
  {
   "cell_type": "code",
   "execution_count": null,
   "id": "b82617de-9974-4884-804d-cc7b20992d62",
   "metadata": {},
   "outputs": [],
   "source": [
    "f = Ri_b - Ri_unstable\n",
    "\n",
    "expr = L - f / f.diff(L)\n",
    "algo = newtons_method(expr, L, atol, dL)"
   ]
  },
  {
   "cell_type": "markdown",
   "id": "d5b5124e-8ecc-44c2-9cda-4bc12f368dba",
   "metadata": {},
   "source": [
    "#### Note: huge code generated"
   ]
  },
  {
   "cell_type": "markdown",
   "id": "e5a6c66b-8392-4b37-bc69-3501741eb65c",
   "metadata": {},
   "source": [
    "print(render_as_module(algo))"
   ]
  },
  {
   "cell_type": "markdown",
   "id": "e9094708-f308-4264-9ac3-a368f59df5ec",
   "metadata": {},
   "source": [
    "print(render_as_fortran_mod(algo, 'find_ob_len_stable'))"
   ]
  },
  {
   "cell_type": "code",
   "execution_count": null,
   "id": "67faf230-d092-4ba2-a86d-3cd186bd816c",
   "metadata": {},
   "outputs": [],
   "source": []
  }
 ],
 "metadata": {
  "kernelspec": {
   "display_name": "py-snek",
   "language": "python",
   "name": "py-snek"
  },
  "language_info": {
   "codemirror_mode": {
    "name": "ipython",
    "version": 3
   },
   "file_extension": ".py",
   "mimetype": "text/x-python",
   "name": "python",
   "nbconvert_exporter": "python",
   "pygments_lexer": "ipython3",
   "version": "3.8.9"
  }
 },
 "nbformat": 4,
 "nbformat_minor": 5
}
